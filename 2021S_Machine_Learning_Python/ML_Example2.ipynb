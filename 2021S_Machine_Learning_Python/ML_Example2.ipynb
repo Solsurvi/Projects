{
 "cells": [
  {
   "cell_type": "markdown",
   "metadata": {},
   "source": [
    "Machine Learning for Social Science \n",
    "Assignment 2 "
   ]
  },
  {
   "cell_type": "code",
   "execution_count": 1,
   "metadata": {},
   "outputs": [],
   "source": [
    "#Import Python Libraries\n",
    "import numpy as np\n",
    "import scipy as sp\n",
    "import pandas as pd\n",
    "import matplotlib as mpl\n",
    "import seaborn as sns\n",
    "import statistics"
   ]
  },
  {
   "cell_type": "markdown",
   "metadata": {},
   "source": [
    "## Part 1: Regression on California Test Scores\n",
    "\n",
    "1. Find the url for the California Test Score Data Set from the following website:\n",
    "\n",
    "https://vincentarelbundock.github.io/Rdatasets/datasets.html\n",
    "\n",
    "Read through the \"DOC\" file to understand the variables in the dataset, then use the following url to import the data.  \n",
    "\n",
    "https://vincentarelbundock.github.io/Rdatasets/csv/Ecdat/Caschool.csv\n",
    "\n",
    "The target data (i.e. the dependent variable) is named \"testscr\".  You can use all  variables in the data except for \"readscr\" and \"mathscr\" in the following analysis.  (These two variables were used to generate the dependent variable).\n",
    "\n",
    "\n"
   ]
  },
  {
   "cell_type": "code",
   "execution_count": 2,
   "metadata": {
    "scrolled": true
   },
   "outputs": [
    {
     "data": {
      "text/html": [
       "<div>\n",
       "<style scoped>\n",
       "    .dataframe tbody tr th:only-of-type {\n",
       "        vertical-align: middle;\n",
       "    }\n",
       "\n",
       "    .dataframe tbody tr th {\n",
       "        vertical-align: top;\n",
       "    }\n",
       "\n",
       "    .dataframe thead th {\n",
       "        text-align: right;\n",
       "    }\n",
       "</style>\n",
       "<table border=\"1\" class=\"dataframe\">\n",
       "  <thead>\n",
       "    <tr style=\"text-align: right;\">\n",
       "      <th></th>\n",
       "      <th>Unnamed: 0</th>\n",
       "      <th>distcod</th>\n",
       "      <th>county</th>\n",
       "      <th>district</th>\n",
       "      <th>grspan</th>\n",
       "      <th>enrltot</th>\n",
       "      <th>teachers</th>\n",
       "      <th>calwpct</th>\n",
       "      <th>mealpct</th>\n",
       "      <th>computer</th>\n",
       "      <th>testscr</th>\n",
       "      <th>compstu</th>\n",
       "      <th>expnstu</th>\n",
       "      <th>str</th>\n",
       "      <th>avginc</th>\n",
       "      <th>elpct</th>\n",
       "      <th>readscr</th>\n",
       "      <th>mathscr</th>\n",
       "    </tr>\n",
       "  </thead>\n",
       "  <tbody>\n",
       "    <tr>\n",
       "      <th>0</th>\n",
       "      <td>1</td>\n",
       "      <td>75119</td>\n",
       "      <td>Alameda</td>\n",
       "      <td>Sunol Glen Unified</td>\n",
       "      <td>KK-08</td>\n",
       "      <td>195</td>\n",
       "      <td>10.900000</td>\n",
       "      <td>0.510200</td>\n",
       "      <td>2.040800</td>\n",
       "      <td>67</td>\n",
       "      <td>690.799988</td>\n",
       "      <td>0.343590</td>\n",
       "      <td>6384.911133</td>\n",
       "      <td>17.889910</td>\n",
       "      <td>22.690001</td>\n",
       "      <td>0.000000</td>\n",
       "      <td>691.599976</td>\n",
       "      <td>690.000000</td>\n",
       "    </tr>\n",
       "    <tr>\n",
       "      <th>1</th>\n",
       "      <td>2</td>\n",
       "      <td>61499</td>\n",
       "      <td>Butte</td>\n",
       "      <td>Manzanita Elementary</td>\n",
       "      <td>KK-08</td>\n",
       "      <td>240</td>\n",
       "      <td>11.150000</td>\n",
       "      <td>15.416700</td>\n",
       "      <td>47.916698</td>\n",
       "      <td>101</td>\n",
       "      <td>661.200012</td>\n",
       "      <td>0.420833</td>\n",
       "      <td>5099.380859</td>\n",
       "      <td>21.524664</td>\n",
       "      <td>9.824000</td>\n",
       "      <td>4.583333</td>\n",
       "      <td>660.500000</td>\n",
       "      <td>661.900024</td>\n",
       "    </tr>\n",
       "    <tr>\n",
       "      <th>2</th>\n",
       "      <td>3</td>\n",
       "      <td>61549</td>\n",
       "      <td>Butte</td>\n",
       "      <td>Thermalito Union Elementary</td>\n",
       "      <td>KK-08</td>\n",
       "      <td>1550</td>\n",
       "      <td>82.900002</td>\n",
       "      <td>55.032299</td>\n",
       "      <td>76.322601</td>\n",
       "      <td>169</td>\n",
       "      <td>643.599976</td>\n",
       "      <td>0.109032</td>\n",
       "      <td>5501.954590</td>\n",
       "      <td>18.697226</td>\n",
       "      <td>8.978000</td>\n",
       "      <td>30.000002</td>\n",
       "      <td>636.299988</td>\n",
       "      <td>650.900024</td>\n",
       "    </tr>\n",
       "    <tr>\n",
       "      <th>3</th>\n",
       "      <td>4</td>\n",
       "      <td>61457</td>\n",
       "      <td>Butte</td>\n",
       "      <td>Golden Feather Union Elementary</td>\n",
       "      <td>KK-08</td>\n",
       "      <td>243</td>\n",
       "      <td>14.000000</td>\n",
       "      <td>36.475399</td>\n",
       "      <td>77.049202</td>\n",
       "      <td>85</td>\n",
       "      <td>647.700012</td>\n",
       "      <td>0.349794</td>\n",
       "      <td>7101.831055</td>\n",
       "      <td>17.357143</td>\n",
       "      <td>8.978000</td>\n",
       "      <td>0.000000</td>\n",
       "      <td>651.900024</td>\n",
       "      <td>643.500000</td>\n",
       "    </tr>\n",
       "    <tr>\n",
       "      <th>4</th>\n",
       "      <td>5</td>\n",
       "      <td>61523</td>\n",
       "      <td>Butte</td>\n",
       "      <td>Palermo Union Elementary</td>\n",
       "      <td>KK-08</td>\n",
       "      <td>1335</td>\n",
       "      <td>71.500000</td>\n",
       "      <td>33.108601</td>\n",
       "      <td>78.427002</td>\n",
       "      <td>171</td>\n",
       "      <td>640.849976</td>\n",
       "      <td>0.128090</td>\n",
       "      <td>5235.987793</td>\n",
       "      <td>18.671329</td>\n",
       "      <td>9.080333</td>\n",
       "      <td>13.857677</td>\n",
       "      <td>641.799988</td>\n",
       "      <td>639.900024</td>\n",
       "    </tr>\n",
       "    <tr>\n",
       "      <th>5</th>\n",
       "      <td>6</td>\n",
       "      <td>62042</td>\n",
       "      <td>Fresno</td>\n",
       "      <td>Burrel Union Elementary</td>\n",
       "      <td>KK-08</td>\n",
       "      <td>137</td>\n",
       "      <td>6.400000</td>\n",
       "      <td>12.318800</td>\n",
       "      <td>86.956497</td>\n",
       "      <td>25</td>\n",
       "      <td>605.550049</td>\n",
       "      <td>0.182482</td>\n",
       "      <td>5580.146973</td>\n",
       "      <td>21.406250</td>\n",
       "      <td>10.415000</td>\n",
       "      <td>12.408759</td>\n",
       "      <td>605.700012</td>\n",
       "      <td>605.400024</td>\n",
       "    </tr>\n",
       "    <tr>\n",
       "      <th>6</th>\n",
       "      <td>7</td>\n",
       "      <td>68536</td>\n",
       "      <td>San Joaquin</td>\n",
       "      <td>Holt Union Elementary</td>\n",
       "      <td>KK-08</td>\n",
       "      <td>195</td>\n",
       "      <td>10.000000</td>\n",
       "      <td>12.903200</td>\n",
       "      <td>94.623703</td>\n",
       "      <td>28</td>\n",
       "      <td>606.750000</td>\n",
       "      <td>0.143590</td>\n",
       "      <td>5253.331055</td>\n",
       "      <td>19.500000</td>\n",
       "      <td>6.577000</td>\n",
       "      <td>68.717949</td>\n",
       "      <td>604.500000</td>\n",
       "      <td>609.000000</td>\n",
       "    </tr>\n",
       "    <tr>\n",
       "      <th>7</th>\n",
       "      <td>8</td>\n",
       "      <td>63834</td>\n",
       "      <td>Kern</td>\n",
       "      <td>Vineland Elementary</td>\n",
       "      <td>KK-08</td>\n",
       "      <td>888</td>\n",
       "      <td>42.500000</td>\n",
       "      <td>18.806299</td>\n",
       "      <td>100.000000</td>\n",
       "      <td>66</td>\n",
       "      <td>609.000000</td>\n",
       "      <td>0.074324</td>\n",
       "      <td>4565.746094</td>\n",
       "      <td>20.894117</td>\n",
       "      <td>8.174000</td>\n",
       "      <td>46.959461</td>\n",
       "      <td>605.500000</td>\n",
       "      <td>612.500000</td>\n",
       "    </tr>\n",
       "    <tr>\n",
       "      <th>8</th>\n",
       "      <td>9</td>\n",
       "      <td>62331</td>\n",
       "      <td>Fresno</td>\n",
       "      <td>Orange Center Elementary</td>\n",
       "      <td>KK-08</td>\n",
       "      <td>379</td>\n",
       "      <td>19.000000</td>\n",
       "      <td>32.189999</td>\n",
       "      <td>93.139801</td>\n",
       "      <td>35</td>\n",
       "      <td>612.500000</td>\n",
       "      <td>0.092348</td>\n",
       "      <td>5355.548340</td>\n",
       "      <td>19.947369</td>\n",
       "      <td>7.385000</td>\n",
       "      <td>30.079157</td>\n",
       "      <td>608.900024</td>\n",
       "      <td>616.099976</td>\n",
       "    </tr>\n",
       "    <tr>\n",
       "      <th>9</th>\n",
       "      <td>10</td>\n",
       "      <td>67306</td>\n",
       "      <td>Sacramento</td>\n",
       "      <td>Del Paso Heights Elementary</td>\n",
       "      <td>KK-06</td>\n",
       "      <td>2247</td>\n",
       "      <td>108.000000</td>\n",
       "      <td>78.994202</td>\n",
       "      <td>87.316399</td>\n",
       "      <td>0</td>\n",
       "      <td>612.650024</td>\n",
       "      <td>0.000000</td>\n",
       "      <td>5036.211426</td>\n",
       "      <td>20.805555</td>\n",
       "      <td>11.613333</td>\n",
       "      <td>40.275921</td>\n",
       "      <td>611.900024</td>\n",
       "      <td>613.400024</td>\n",
       "    </tr>\n",
       "  </tbody>\n",
       "</table>\n",
       "</div>"
      ],
      "text/plain": [
       "   Unnamed: 0  distcod       county                         district grspan  \\\n",
       "0           1    75119      Alameda               Sunol Glen Unified  KK-08   \n",
       "1           2    61499        Butte             Manzanita Elementary  KK-08   \n",
       "2           3    61549        Butte      Thermalito Union Elementary  KK-08   \n",
       "3           4    61457        Butte  Golden Feather Union Elementary  KK-08   \n",
       "4           5    61523        Butte         Palermo Union Elementary  KK-08   \n",
       "5           6    62042       Fresno          Burrel Union Elementary  KK-08   \n",
       "6           7    68536  San Joaquin            Holt Union Elementary  KK-08   \n",
       "7           8    63834         Kern              Vineland Elementary  KK-08   \n",
       "8           9    62331       Fresno         Orange Center Elementary  KK-08   \n",
       "9          10    67306   Sacramento      Del Paso Heights Elementary  KK-06   \n",
       "\n",
       "   enrltot    teachers    calwpct     mealpct  computer     testscr   compstu  \\\n",
       "0      195   10.900000   0.510200    2.040800        67  690.799988  0.343590   \n",
       "1      240   11.150000  15.416700   47.916698       101  661.200012  0.420833   \n",
       "2     1550   82.900002  55.032299   76.322601       169  643.599976  0.109032   \n",
       "3      243   14.000000  36.475399   77.049202        85  647.700012  0.349794   \n",
       "4     1335   71.500000  33.108601   78.427002       171  640.849976  0.128090   \n",
       "5      137    6.400000  12.318800   86.956497        25  605.550049  0.182482   \n",
       "6      195   10.000000  12.903200   94.623703        28  606.750000  0.143590   \n",
       "7      888   42.500000  18.806299  100.000000        66  609.000000  0.074324   \n",
       "8      379   19.000000  32.189999   93.139801        35  612.500000  0.092348   \n",
       "9     2247  108.000000  78.994202   87.316399         0  612.650024  0.000000   \n",
       "\n",
       "       expnstu        str     avginc      elpct     readscr     mathscr  \n",
       "0  6384.911133  17.889910  22.690001   0.000000  691.599976  690.000000  \n",
       "1  5099.380859  21.524664   9.824000   4.583333  660.500000  661.900024  \n",
       "2  5501.954590  18.697226   8.978000  30.000002  636.299988  650.900024  \n",
       "3  7101.831055  17.357143   8.978000   0.000000  651.900024  643.500000  \n",
       "4  5235.987793  18.671329   9.080333  13.857677  641.799988  639.900024  \n",
       "5  5580.146973  21.406250  10.415000  12.408759  605.700012  605.400024  \n",
       "6  5253.331055  19.500000   6.577000  68.717949  604.500000  609.000000  \n",
       "7  4565.746094  20.894117   8.174000  46.959461  605.500000  612.500000  \n",
       "8  5355.548340  19.947369   7.385000  30.079157  608.900024  616.099976  \n",
       "9  5036.211426  20.805555  11.613333  40.275921  611.900024  613.400024  "
      ]
     },
     "execution_count": 2,
     "metadata": {},
     "output_type": "execute_result"
    }
   ],
   "source": [
    "#Read csv file\n",
    "df = pd.read_csv(\"https://vincentarelbundock.github.io/Rdatasets/csv/Ecdat/Caschool.csv\", encoding=\"latin_1\")\n",
    "\n",
    "df.head(10) # read the first 10 rows to check the data "
   ]
  },
  {
   "cell_type": "markdown",
   "metadata": {},
   "source": [
    "1.1 Visualize the univariate distribution of the target feature and each of the three continuous explanatory variables that you think are likely to have a relationship with the target feature.\n",
    "\n",
    "The three vairables I would like to investigate are expnstu(Expenditure per student), avginc(District average income in USD 1,000) and elpct(Percent of English learners). \n",
    "\n",
    "The dependent variable is testscr(test score)."
   ]
  },
  {
   "cell_type": "code",
   "execution_count": 3,
   "metadata": {},
   "outputs": [
    {
     "data": {
      "text/plain": [
       "Text(0, 0.5, 'Count')"
      ]
     },
     "execution_count": 3,
     "metadata": {},
     "output_type": "execute_result"
    },
    {
     "data": {
      "image/png": "[encoded data removed]",
      "text/plain": [
       "<Figure size 432x288 with 1 Axes>"
      ]
     },
     "metadata": {
      "needs_background": "light"
     },
     "output_type": "display_data"
    }
   ],
   "source": [
    "from matplotlib import pyplot as plt \n",
    "df ['expnstu'].hist()\n",
    "plt.xlabel('Expenditure per student')\n",
    "plt.ylabel('Count')"
   ]
  },
  {
   "cell_type": "code",
   "execution_count": 4,
   "metadata": {},
   "outputs": [
    {
     "data": {
      "text/plain": [
       "Text(0, 0.5, 'Count')"
      ]
     },
     "execution_count": 4,
     "metadata": {},
     "output_type": "execute_result"
    },
    {
     "data": {
      "image/png": "[encoded data removed]",
      "text/plain": [
       "<Figure size 432x288 with 1 Axes>"
      ]
     },
     "metadata": {
      "needs_background": "light"
     },
     "output_type": "display_data"
    }
   ],
   "source": [
    "df ['avginc'].hist()\n",
    "plt.xlabel('District average income in USD 1,000')\n",
    "plt.ylabel('Count')"
   ]
  },
  {
   "cell_type": "code",
   "execution_count": 5,
   "metadata": {},
   "outputs": [
    {
     "data": {
      "text/plain": [
       "Text(0, 0.5, 'Count')"
      ]
     },
     "execution_count": 5,
     "metadata": {},
     "output_type": "execute_result"
    },
    {
     "data": {
      "image/png": "[encoded data removed]",
      "text/plain": [
       "<Figure size 432x288 with 1 Axes>"
      ]
     },
     "metadata": {
      "needs_background": "light"
     },
     "output_type": "display_data"
    }
   ],
   "source": [
    "df ['elpct'].hist()\n",
    "plt.xlabel('Percent of English learners')\n",
    "plt.ylabel('Count')"
   ]
  },
  {
   "cell_type": "code",
   "execution_count": 6,
   "metadata": {},
   "outputs": [
    {
     "data": {
      "text/plain": [
       "Text(0, 0.5, 'Count')"
      ]
     },
     "execution_count": 6,
     "metadata": {},
     "output_type": "execute_result"
    },
    {
     "data": {
      "image/png": "[encoded data removed]",
      "text/plain": [
       "<Figure size 432x288 with 1 Axes>"
      ]
     },
     "metadata": {
      "needs_background": "light"
     },
     "output_type": "display_data"
    }
   ],
   "source": [
    "df ['testscr'].hist()\n",
    "plt.xlabel('test score')\n",
    "plt.ylabel('Count')"
   ]
  },
  {
   "cell_type": "markdown",
   "metadata": {},
   "source": [
    "1.2 Visualize the dependency of the target on each feature from 1.1.\n",
    "\n",
    "If we only consider two variable in each case. Expenditure per student and District average income in USD 1,000 have a positive influence on test score. However, Percent of English learners tend to negatively influence test score."
   ]
  },
  {
   "cell_type": "code",
   "execution_count": 7,
   "metadata": {},
   "outputs": [
    {
     "data": {
      "text/plain": [
       "Text(0, 0.5, 'Test Score')"
      ]
     },
     "execution_count": 7,
     "metadata": {},
     "output_type": "execute_result"
    },
    {
     "data": {
      "image/png": "[encoded data removed]",
      "text/plain": [
       "<Figure size 432x288 with 1 Axes>"
      ]
     },
     "metadata": {
      "needs_background": "light"
     },
     "output_type": "display_data"
    }
   ],
   "source": [
    "reg1 = sns.regplot(x=df ['expnstu'], y= df ['testscr'])\n",
    "plt.xlabel('Expenditure per student')\n",
    "plt.ylabel('Test Score')"
   ]
  },
  {
   "cell_type": "code",
   "execution_count": 8,
   "metadata": {},
   "outputs": [
    {
     "data": {
      "text/plain": [
       "Text(0, 0.5, 'Test Score')"
      ]
     },
     "execution_count": 8,
     "metadata": {},
     "output_type": "execute_result"
    },
    {
     "data": {
      "image/png": "[encoded data removed]",
      "text/plain": [
       "<Figure size 432x288 with 1 Axes>"
      ]
     },
     "metadata": {
      "needs_background": "light"
     },
     "output_type": "display_data"
    }
   ],
   "source": [
    "reg2 = sns.regplot(x=df ['avginc'], y= df ['testscr'])\n",
    "plt.xlabel('District average income in USD 1,000')\n",
    "plt.ylabel('Test Score')"
   ]
  },
  {
   "cell_type": "code",
   "execution_count": 9,
   "metadata": {},
   "outputs": [
    {
     "data": {
      "text/plain": [
       "Text(0, 0.5, 'Test Score')"
      ]
     },
     "execution_count": 9,
     "metadata": {},
     "output_type": "execute_result"
    },
    {
     "data": {
      "image/png": "[encoded data removed]",
      "text/plain": [
       "<Figure size 432x288 with 1 Axes>"
      ]
     },
     "metadata": {
      "needs_background": "light"
     },
     "output_type": "display_data"
    }
   ],
   "source": [
    "reg3 = sns.regplot(x=df ['elpct'], y= df ['testscr'])\n",
    "plt.xlabel('Percent of English learners')\n",
    "plt.ylabel('Test Score')"
   ]
  },
  {
   "cell_type": "markdown",
   "metadata": {},
   "source": [
    "1.3 Split data in training and test set. Build models that evaluate the relationship between all available X variables in the California test dataset and the target variable. Evaluate KNN for regression, Linear Regression (OLS), Ridge, and Lasso using cross-validation with the default parameters. Does scaling the data with the StandardScaler help?\n"
   ]
  },
  {
   "cell_type": "code",
   "execution_count": 10,
   "metadata": {},
   "outputs": [
    {
     "data": {
      "text/html": [
       "<div>\n",
       "<style scoped>\n",
       "    .dataframe tbody tr th:only-of-type {\n",
       "        vertical-align: middle;\n",
       "    }\n",
       "\n",
       "    .dataframe tbody tr th {\n",
       "        vertical-align: top;\n",
       "    }\n",
       "\n",
       "    .dataframe thead th {\n",
       "        text-align: right;\n",
       "    }\n",
       "</style>\n",
       "<table border=\"1\" class=\"dataframe\">\n",
       "  <thead>\n",
       "    <tr style=\"text-align: right;\">\n",
       "      <th></th>\n",
       "      <th>Unnamed: 0</th>\n",
       "      <th>distcod</th>\n",
       "      <th>county</th>\n",
       "      <th>district</th>\n",
       "      <th>grspan</th>\n",
       "      <th>enrltot</th>\n",
       "      <th>teachers</th>\n",
       "      <th>calwpct</th>\n",
       "      <th>mealpct</th>\n",
       "      <th>computer</th>\n",
       "      <th>testscr</th>\n",
       "      <th>compstu</th>\n",
       "      <th>expnstu</th>\n",
       "      <th>str</th>\n",
       "      <th>avginc</th>\n",
       "      <th>elpct</th>\n",
       "      <th>readscr</th>\n",
       "      <th>mathscr</th>\n",
       "    </tr>\n",
       "  </thead>\n",
       "  <tbody>\n",
       "    <tr>\n",
       "      <th>0</th>\n",
       "      <td>1</td>\n",
       "      <td>75119</td>\n",
       "      <td>Alameda</td>\n",
       "      <td>Sunol Glen Unified</td>\n",
       "      <td>KK-08</td>\n",
       "      <td>195</td>\n",
       "      <td>10.900000</td>\n",
       "      <td>0.510200</td>\n",
       "      <td>2.040800</td>\n",
       "      <td>67</td>\n",
       "      <td>690.799988</td>\n",
       "      <td>0.343590</td>\n",
       "      <td>6384.911133</td>\n",
       "      <td>17.889910</td>\n",
       "      <td>22.690001</td>\n",
       "      <td>0.000000</td>\n",
       "      <td>691.599976</td>\n",
       "      <td>690.000000</td>\n",
       "    </tr>\n",
       "    <tr>\n",
       "      <th>1</th>\n",
       "      <td>2</td>\n",
       "      <td>61499</td>\n",
       "      <td>Butte</td>\n",
       "      <td>Manzanita Elementary</td>\n",
       "      <td>KK-08</td>\n",
       "      <td>240</td>\n",
       "      <td>11.150000</td>\n",
       "      <td>15.416700</td>\n",
       "      <td>47.916698</td>\n",
       "      <td>101</td>\n",
       "      <td>661.200012</td>\n",
       "      <td>0.420833</td>\n",
       "      <td>5099.380859</td>\n",
       "      <td>21.524664</td>\n",
       "      <td>9.824000</td>\n",
       "      <td>4.583333</td>\n",
       "      <td>660.500000</td>\n",
       "      <td>661.900024</td>\n",
       "    </tr>\n",
       "    <tr>\n",
       "      <th>2</th>\n",
       "      <td>3</td>\n",
       "      <td>61549</td>\n",
       "      <td>Butte</td>\n",
       "      <td>Thermalito Union Elementary</td>\n",
       "      <td>KK-08</td>\n",
       "      <td>1550</td>\n",
       "      <td>82.900002</td>\n",
       "      <td>55.032299</td>\n",
       "      <td>76.322601</td>\n",
       "      <td>169</td>\n",
       "      <td>643.599976</td>\n",
       "      <td>0.109032</td>\n",
       "      <td>5501.954590</td>\n",
       "      <td>18.697226</td>\n",
       "      <td>8.978000</td>\n",
       "      <td>30.000002</td>\n",
       "      <td>636.299988</td>\n",
       "      <td>650.900024</td>\n",
       "    </tr>\n",
       "    <tr>\n",
       "      <th>3</th>\n",
       "      <td>4</td>\n",
       "      <td>61457</td>\n",
       "      <td>Butte</td>\n",
       "      <td>Golden Feather Union Elementary</td>\n",
       "      <td>KK-08</td>\n",
       "      <td>243</td>\n",
       "      <td>14.000000</td>\n",
       "      <td>36.475399</td>\n",
       "      <td>77.049202</td>\n",
       "      <td>85</td>\n",
       "      <td>647.700012</td>\n",
       "      <td>0.349794</td>\n",
       "      <td>7101.831055</td>\n",
       "      <td>17.357143</td>\n",
       "      <td>8.978000</td>\n",
       "      <td>0.000000</td>\n",
       "      <td>651.900024</td>\n",
       "      <td>643.500000</td>\n",
       "    </tr>\n",
       "    <tr>\n",
       "      <th>4</th>\n",
       "      <td>5</td>\n",
       "      <td>61523</td>\n",
       "      <td>Butte</td>\n",
       "      <td>Palermo Union Elementary</td>\n",
       "      <td>KK-08</td>\n",
       "      <td>1335</td>\n",
       "      <td>71.500000</td>\n",
       "      <td>33.108601</td>\n",
       "      <td>78.427002</td>\n",
       "      <td>171</td>\n",
       "      <td>640.849976</td>\n",
       "      <td>0.128090</td>\n",
       "      <td>5235.987793</td>\n",
       "      <td>18.671329</td>\n",
       "      <td>9.080333</td>\n",
       "      <td>13.857677</td>\n",
       "      <td>641.799988</td>\n",
       "      <td>639.900024</td>\n",
       "    </tr>\n",
       "  </tbody>\n",
       "</table>\n",
       "</div>"
      ],
      "text/plain": [
       "   Unnamed: 0  distcod   county                         district grspan  \\\n",
       "0           1    75119  Alameda               Sunol Glen Unified  KK-08   \n",
       "1           2    61499    Butte             Manzanita Elementary  KK-08   \n",
       "2           3    61549    Butte      Thermalito Union Elementary  KK-08   \n",
       "3           4    61457    Butte  Golden Feather Union Elementary  KK-08   \n",
       "4           5    61523    Butte         Palermo Union Elementary  KK-08   \n",
       "\n",
       "   enrltot   teachers    calwpct    mealpct  computer     testscr   compstu  \\\n",
       "0      195  10.900000   0.510200   2.040800        67  690.799988  0.343590   \n",
       "1      240  11.150000  15.416700  47.916698       101  661.200012  0.420833   \n",
       "2     1550  82.900002  55.032299  76.322601       169  643.599976  0.109032   \n",
       "3      243  14.000000  36.475399  77.049202        85  647.700012  0.349794   \n",
       "4     1335  71.500000  33.108601  78.427002       171  640.849976  0.128090   \n",
       "\n",
       "       expnstu        str     avginc      elpct     readscr     mathscr  \n",
       "0  6384.911133  17.889910  22.690001   0.000000  691.599976  690.000000  \n",
       "1  5099.380859  21.524664   9.824000   4.583333  660.500000  661.900024  \n",
       "2  5501.954590  18.697226   8.978000  30.000002  636.299988  650.900024  \n",
       "3  7101.831055  17.357143   8.978000   0.000000  651.900024  643.500000  \n",
       "4  5235.987793  18.671329   9.080333  13.857677  641.799988  639.900024  "
      ]
     },
     "execution_count": 10,
     "metadata": {},
     "output_type": "execute_result"
    }
   ],
   "source": [
    "df.head()"
   ]
  },
  {
   "cell_type": "markdown",
   "metadata": {},
   "source": [
    "I choose to leave out the identity variables (such as name and district code) which are not related to the test score and the number of computer variable(since I have the computer per student variable in X)."
   ]
  },
  {
   "cell_type": "code",
   "execution_count": 11,
   "metadata": {},
   "outputs": [
    {
     "data": {
      "text/plain": [
       "0    690.799988\n",
       "1    661.200012\n",
       "2    643.599976\n",
       "3    647.700012\n",
       "4    640.849976\n",
       "Name: testscr, dtype: float64"
      ]
     },
     "execution_count": 11,
     "metadata": {},
     "output_type": "execute_result"
    }
   ],
   "source": [
    "y = df['testscr']  \n",
    "X = pd.DataFrame(df, columns = ['enrltot', 'teachers', 'calwpct', 'mealpct', \n",
    "                              'compstu', 'expnstu', 'str', 'avginc', 'elpct' ])\n",
    "\n",
    "\n",
    "y.head()"
   ]
  },
  {
   "cell_type": "code",
   "execution_count": 12,
   "metadata": {},
   "outputs": [
    {
     "data": {
      "text/html": [
       "<div>\n",
       "<style scoped>\n",
       "    .dataframe tbody tr th:only-of-type {\n",
       "        vertical-align: middle;\n",
       "    }\n",
       "\n",
       "    .dataframe tbody tr th {\n",
       "        vertical-align: top;\n",
       "    }\n",
       "\n",
       "    .dataframe thead th {\n",
       "        text-align: right;\n",
       "    }\n",
       "</style>\n",
       "<table border=\"1\" class=\"dataframe\">\n",
       "  <thead>\n",
       "    <tr style=\"text-align: right;\">\n",
       "      <th></th>\n",
       "      <th>enrltot</th>\n",
       "      <th>teachers</th>\n",
       "      <th>calwpct</th>\n",
       "      <th>mealpct</th>\n",
       "      <th>compstu</th>\n",
       "      <th>expnstu</th>\n",
       "      <th>str</th>\n",
       "      <th>avginc</th>\n",
       "      <th>elpct</th>\n",
       "    </tr>\n",
       "  </thead>\n",
       "  <tbody>\n",
       "    <tr>\n",
       "      <th>0</th>\n",
       "      <td>195</td>\n",
       "      <td>10.900000</td>\n",
       "      <td>0.510200</td>\n",
       "      <td>2.040800</td>\n",
       "      <td>0.343590</td>\n",
       "      <td>6384.911133</td>\n",
       "      <td>17.889910</td>\n",
       "      <td>22.690001</td>\n",
       "      <td>0.000000</td>\n",
       "    </tr>\n",
       "    <tr>\n",
       "      <th>1</th>\n",
       "      <td>240</td>\n",
       "      <td>11.150000</td>\n",
       "      <td>15.416700</td>\n",
       "      <td>47.916698</td>\n",
       "      <td>0.420833</td>\n",
       "      <td>5099.380859</td>\n",
       "      <td>21.524664</td>\n",
       "      <td>9.824000</td>\n",
       "      <td>4.583333</td>\n",
       "    </tr>\n",
       "    <tr>\n",
       "      <th>2</th>\n",
       "      <td>1550</td>\n",
       "      <td>82.900002</td>\n",
       "      <td>55.032299</td>\n",
       "      <td>76.322601</td>\n",
       "      <td>0.109032</td>\n",
       "      <td>5501.954590</td>\n",
       "      <td>18.697226</td>\n",
       "      <td>8.978000</td>\n",
       "      <td>30.000002</td>\n",
       "    </tr>\n",
       "    <tr>\n",
       "      <th>3</th>\n",
       "      <td>243</td>\n",
       "      <td>14.000000</td>\n",
       "      <td>36.475399</td>\n",
       "      <td>77.049202</td>\n",
       "      <td>0.349794</td>\n",
       "      <td>7101.831055</td>\n",
       "      <td>17.357143</td>\n",
       "      <td>8.978000</td>\n",
       "      <td>0.000000</td>\n",
       "    </tr>\n",
       "    <tr>\n",
       "      <th>4</th>\n",
       "      <td>1335</td>\n",
       "      <td>71.500000</td>\n",
       "      <td>33.108601</td>\n",
       "      <td>78.427002</td>\n",
       "      <td>0.128090</td>\n",
       "      <td>5235.987793</td>\n",
       "      <td>18.671329</td>\n",
       "      <td>9.080333</td>\n",
       "      <td>13.857677</td>\n",
       "    </tr>\n",
       "    <tr>\n",
       "      <th>5</th>\n",
       "      <td>137</td>\n",
       "      <td>6.400000</td>\n",
       "      <td>12.318800</td>\n",
       "      <td>86.956497</td>\n",
       "      <td>0.182482</td>\n",
       "      <td>5580.146973</td>\n",
       "      <td>21.406250</td>\n",
       "      <td>10.415000</td>\n",
       "      <td>12.408759</td>\n",
       "    </tr>\n",
       "    <tr>\n",
       "      <th>6</th>\n",
       "      <td>195</td>\n",
       "      <td>10.000000</td>\n",
       "      <td>12.903200</td>\n",
       "      <td>94.623703</td>\n",
       "      <td>0.143590</td>\n",
       "      <td>5253.331055</td>\n",
       "      <td>19.500000</td>\n",
       "      <td>6.577000</td>\n",
       "      <td>68.717949</td>\n",
       "    </tr>\n",
       "    <tr>\n",
       "      <th>7</th>\n",
       "      <td>888</td>\n",
       "      <td>42.500000</td>\n",
       "      <td>18.806299</td>\n",
       "      <td>100.000000</td>\n",
       "      <td>0.074324</td>\n",
       "      <td>4565.746094</td>\n",
       "      <td>20.894117</td>\n",
       "      <td>8.174000</td>\n",
       "      <td>46.959461</td>\n",
       "    </tr>\n",
       "    <tr>\n",
       "      <th>8</th>\n",
       "      <td>379</td>\n",
       "      <td>19.000000</td>\n",
       "      <td>32.189999</td>\n",
       "      <td>93.139801</td>\n",
       "      <td>0.092348</td>\n",
       "      <td>5355.548340</td>\n",
       "      <td>19.947369</td>\n",
       "      <td>7.385000</td>\n",
       "      <td>30.079157</td>\n",
       "    </tr>\n",
       "    <tr>\n",
       "      <th>9</th>\n",
       "      <td>2247</td>\n",
       "      <td>108.000000</td>\n",
       "      <td>78.994202</td>\n",
       "      <td>87.316399</td>\n",
       "      <td>0.000000</td>\n",
       "      <td>5036.211426</td>\n",
       "      <td>20.805555</td>\n",
       "      <td>11.613333</td>\n",
       "      <td>40.275921</td>\n",
       "    </tr>\n",
       "  </tbody>\n",
       "</table>\n",
       "</div>"
      ],
      "text/plain": [
       "   enrltot    teachers    calwpct     mealpct   compstu      expnstu  \\\n",
       "0      195   10.900000   0.510200    2.040800  0.343590  6384.911133   \n",
       "1      240   11.150000  15.416700   47.916698  0.420833  5099.380859   \n",
       "2     1550   82.900002  55.032299   76.322601  0.109032  5501.954590   \n",
       "3      243   14.000000  36.475399   77.049202  0.349794  7101.831055   \n",
       "4     1335   71.500000  33.108601   78.427002  0.128090  5235.987793   \n",
       "5      137    6.400000  12.318800   86.956497  0.182482  5580.146973   \n",
       "6      195   10.000000  12.903200   94.623703  0.143590  5253.331055   \n",
       "7      888   42.500000  18.806299  100.000000  0.074324  4565.746094   \n",
       "8      379   19.000000  32.189999   93.139801  0.092348  5355.548340   \n",
       "9     2247  108.000000  78.994202   87.316399  0.000000  5036.211426   \n",
       "\n",
       "         str     avginc      elpct  \n",
       "0  17.889910  22.690001   0.000000  \n",
       "1  21.524664   9.824000   4.583333  \n",
       "2  18.697226   8.978000  30.000002  \n",
       "3  17.357143   8.978000   0.000000  \n",
       "4  18.671329   9.080333  13.857677  \n",
       "5  21.406250  10.415000  12.408759  \n",
       "6  19.500000   6.577000  68.717949  \n",
       "7  20.894117   8.174000  46.959461  \n",
       "8  19.947369   7.385000  30.079157  \n",
       "9  20.805555  11.613333  40.275921  "
      ]
     },
     "execution_count": 12,
     "metadata": {},
     "output_type": "execute_result"
    }
   ],
   "source": [
    "X.head(10)"
   ]
  },
  {
   "cell_type": "code",
   "execution_count": 13,
   "metadata": {},
   "outputs": [],
   "source": [
    "# Split data in training and test set\n",
    "from sklearn.model_selection import train_test_split\n",
    "X_train, X_test, y_train, y_test = train_test_split(X, y) "
   ]
  },
  {
   "cell_type": "code",
   "execution_count": 14,
   "metadata": {},
   "outputs": [],
   "source": [
    "from sklearn.model_selection import cross_val_score\n",
    "from sklearn.model_selection import KFold\n",
    "kfold = KFold(n_splits=5)"
   ]
  },
  {
   "cell_type": "code",
   "execution_count": 15,
   "metadata": {},
   "outputs": [
    {
     "name": "stdout",
     "output_type": "stream",
     "text": [
      "KNN regression KFold CV Score :\n",
      "-0.045504977160864546\n"
     ]
    }
   ],
   "source": [
    "# KNN regression \n",
    "from sklearn.neighbors import KNeighborsRegressor\n",
    "\n",
    "CV_score_KNN = cross_val_score(KNeighborsRegressor(), X_train, y_train, cv=kfold).mean()\n",
    "\n",
    "print(\"KNN regression KFold CV Score :\\n{}\".format(CV_score_KNN))\n"
   ]
  },
  {
   "cell_type": "code",
   "execution_count": 16,
   "metadata": {},
   "outputs": [
    {
     "name": "stdout",
     "output_type": "stream",
     "text": [
      "OLS KFold CV Score :\n",
      "0.7742958024121624\n"
     ]
    }
   ],
   "source": [
    "# Linear Regression (OLS)\n",
    "from sklearn.linear_model import LinearRegression\n",
    "\n",
    "CV_score_ols = cross_val_score(LinearRegression(), X_train, y_train, cv=kfold).mean()\n",
    "\n",
    "print(\"OLS KFold CV Score :\\n{}\".format(CV_score_ols))"
   ]
  },
  {
   "cell_type": "code",
   "execution_count": 17,
   "metadata": {},
   "outputs": [
    {
     "name": "stdout",
     "output_type": "stream",
     "text": [
      "Ridge KFold CV Score :\n",
      "0.7750890746021996\n"
     ]
    }
   ],
   "source": [
    "# Ridge \n",
    "from sklearn.linear_model import Ridge\n",
    "CV_score_r = cross_val_score(Ridge(), X_train, y_train, cv=kfold).mean()\n",
    "\n",
    "print(\"Ridge KFold CV Score :\\n{}\".format(CV_score_r))"
   ]
  },
  {
   "cell_type": "code",
   "execution_count": 18,
   "metadata": {},
   "outputs": [
    {
     "name": "stdout",
     "output_type": "stream",
     "text": [
      "Lasso KFold CV Score :\n",
      "0.7752635356753672\n"
     ]
    }
   ],
   "source": [
    "# Lasso\n",
    "from sklearn.linear_model import Lasso\n",
    "\n",
    "\n",
    "CV_score_lasso = cross_val_score(Lasso(max_iter=100000), X_train, y_train, cv=kfold).mean()\n",
    "\n",
    "print(\"Lasso KFold CV Score :\\n{}\".format(CV_score_lasso))"
   ]
  },
  {
   "cell_type": "markdown",
   "metadata": {},
   "source": [
    "The purpose of cross validation is to measure model's ability for prediction. So we can hopefully avoid some flag problems, such as overfitting. The cross validation score is our criteria to choose models. Therefore, in this case, lasso is our best model, Ridge is the second best, OLS is the third, and KNN regressor is the worst model. \n",
    "\n",
    "* This part is based on my personal understanding of lecture notes and cross-validation wikipedia webpage. "
   ]
  },
  {
   "cell_type": "code",
   "execution_count": 19,
   "metadata": {},
   "outputs": [],
   "source": [
    "from sklearn import preprocessing\n",
    "from sklearn.preprocessing import StandardScaler"
   ]
  },
  {
   "cell_type": "code",
   "execution_count": 20,
   "metadata": {},
   "outputs": [],
   "source": [
    "scaler = preprocessing.StandardScaler()\n",
    "scaler.fit(X_train)\n",
    "X_train_scaled = scaler.transform(X_train)\n",
    "X_test_scaled = scaler.transform(X_test)"
   ]
  },
  {
   "cell_type": "code",
   "execution_count": 21,
   "metadata": {},
   "outputs": [
    {
     "name": "stdout",
     "output_type": "stream",
     "text": [
      "After scaling X, KNN KFold CV Score :\n",
      "0.6969971411741339\n"
     ]
    }
   ],
   "source": [
    "# KNN regression on Scaled X\n",
    "CV_score_KNN2 = cross_val_score(KNeighborsRegressor(), X_train_scaled, y_train, cv=kfold).mean()\n",
    "print(\"After scaling X, KNN KFold CV Score :\\n{}\".format(CV_score_KNN2))\n"
   ]
  },
  {
   "cell_type": "code",
   "execution_count": 22,
   "metadata": {},
   "outputs": [
    {
     "name": "stdout",
     "output_type": "stream",
     "text": [
      "After scaling X, OLS KFold CV Score :\n",
      "0.7742958024121618\n"
     ]
    }
   ],
   "source": [
    "# Linear Regression (OLS) on Scaled X\n",
    "\n",
    "CV_score_ols2 = cross_val_score(LinearRegression(), X_train_scaled, y_train, cv=kfold).mean()\n",
    "print(\"After scaling X, OLS KFold CV Score :\\n{}\".format(CV_score_ols2))\n"
   ]
  },
  {
   "cell_type": "code",
   "execution_count": 23,
   "metadata": {},
   "outputs": [
    {
     "name": "stdout",
     "output_type": "stream",
     "text": [
      "After scaling X, Ridge KFold CV Score :\n",
      "0.7755485372561793\n"
     ]
    }
   ],
   "source": [
    "# Ridge on Scaled X \n",
    "CV_score_r2 = cross_val_score(Ridge(), X_train_scaled, y_train, cv=kfold).mean()\n",
    "print(\"After scaling X, Ridge KFold CV Score :\\n{}\".format(CV_score_r2))\n"
   ]
  },
  {
   "cell_type": "code",
   "execution_count": 24,
   "metadata": {},
   "outputs": [
    {
     "name": "stdout",
     "output_type": "stream",
     "text": [
      "After scaling X, Lasso KFold CV Score :\n",
      "0.7712908413573525\n"
     ]
    }
   ],
   "source": [
    "# Lasso on Scaled X\n",
    "CV_score_lasso2 = cross_val_score(Lasso(), X_train_scaled, y_train, cv=kfold).mean()\n",
    "print(\"After scaling X, Lasso KFold CV Score :\\n{}\".format(CV_score_lasso2))\n",
    "\n"
   ]
  },
  {
   "cell_type": "markdown",
   "metadata": {},
   "source": [
    "Based on test set score, the StandardScaler significantly improve the cv score of KNN regressor, slightly improve the results of ridge and lasso but does not significantly change the score of ols. "
   ]
  },
  {
   "cell_type": "markdown",
   "metadata": {},
   "source": [
    "1.4 Tune the parameters of the models where possible using GridSearchCV. Do the results improve?"
   ]
  },
  {
   "cell_type": "code",
   "execution_count": 25,
   "metadata": {},
   "outputs": [],
   "source": [
    "from sklearn.model_selection import GridSearchCV"
   ]
  },
  {
   "cell_type": "code",
   "execution_count": 26,
   "metadata": {},
   "outputs": [
    {
     "name": "stdout",
     "output_type": "stream",
     "text": [
      "best mean cross-validation score: 0.006\n",
      "best parameters: {'n_neighbors': 17}\n",
      "test-set score: 0.112\n"
     ]
    }
   ],
   "source": [
    "# KNN Grid Search\n",
    "param_grid_KNN = {'n_neighbors': np.arange(1, 25, 2)} \n",
    "\n",
    "grid_KNN = GridSearchCV(KNeighborsRegressor(), param_grid=param_grid_KNN) \n",
    "\n",
    "grid_KNN.fit(X_train, y_train) \n",
    "\n",
    "#extract best score and parameter by calling objects \"best_score_\" and \"best_params_\"\n",
    "print(\"best mean cross-validation score: {:.3f}\".format(grid_KNN.best_score_))\n",
    "print(\"best parameters: {}\".format(grid_KNN.best_params_))\n",
    "print(\"test-set score: {:.3f}\".format(grid_KNN.score(X_test, y_test))) \n"
   ]
  },
  {
   "cell_type": "code",
   "execution_count": 27,
   "metadata": {},
   "outputs": [
    {
     "name": "stdout",
     "output_type": "stream",
     "text": [
      "best mean cross-validation score: 0.776\n",
      "best parameters: {'alpha': 1000}\n",
      "test-set score: 0.850\n"
     ]
    },
    {
     "data": {
      "text/html": [
       "<div>\n",
       "<style scoped>\n",
       "    .dataframe tbody tr th:only-of-type {\n",
       "        vertical-align: middle;\n",
       "    }\n",
       "\n",
       "    .dataframe tbody tr th {\n",
       "        vertical-align: top;\n",
       "    }\n",
       "\n",
       "    .dataframe thead th {\n",
       "        text-align: right;\n",
       "    }\n",
       "</style>\n",
       "<table border=\"1\" class=\"dataframe\">\n",
       "  <thead>\n",
       "    <tr style=\"text-align: right;\">\n",
       "      <th></th>\n",
       "      <th>mean_fit_time</th>\n",
       "      <th>std_fit_time</th>\n",
       "      <th>mean_score_time</th>\n",
       "      <th>std_score_time</th>\n",
       "      <th>param_alpha</th>\n",
       "      <th>params</th>\n",
       "      <th>split0_test_score</th>\n",
       "      <th>split1_test_score</th>\n",
       "      <th>split2_test_score</th>\n",
       "      <th>split3_test_score</th>\n",
       "      <th>split4_test_score</th>\n",
       "      <th>mean_test_score</th>\n",
       "      <th>std_test_score</th>\n",
       "      <th>rank_test_score</th>\n",
       "    </tr>\n",
       "  </thead>\n",
       "  <tbody>\n",
       "    <tr>\n",
       "      <th>0</th>\n",
       "      <td>0.003477</td>\n",
       "      <td>0.000548</td>\n",
       "      <td>0.002475</td>\n",
       "      <td>0.000543</td>\n",
       "      <td>0.001</td>\n",
       "      <td>{'alpha': 0.001}</td>\n",
       "      <td>0.828430</td>\n",
       "      <td>0.704247</td>\n",
       "      <td>0.801145</td>\n",
       "      <td>0.807046</td>\n",
       "      <td>0.730622</td>\n",
       "      <td>0.774298</td>\n",
       "      <td>0.048038</td>\n",
       "      <td>7</td>\n",
       "    </tr>\n",
       "    <tr>\n",
       "      <th>1</th>\n",
       "      <td>0.002381</td>\n",
       "      <td>0.000578</td>\n",
       "      <td>0.001787</td>\n",
       "      <td>0.000399</td>\n",
       "      <td>0.01</td>\n",
       "      <td>{'alpha': 0.01}</td>\n",
       "      <td>0.828444</td>\n",
       "      <td>0.704266</td>\n",
       "      <td>0.801143</td>\n",
       "      <td>0.807023</td>\n",
       "      <td>0.730718</td>\n",
       "      <td>0.774319</td>\n",
       "      <td>0.048015</td>\n",
       "      <td>6</td>\n",
       "    </tr>\n",
       "    <tr>\n",
       "      <th>2</th>\n",
       "      <td>0.003674</td>\n",
       "      <td>0.000746</td>\n",
       "      <td>0.002182</td>\n",
       "      <td>0.000506</td>\n",
       "      <td>0.1</td>\n",
       "      <td>{'alpha': 0.1}</td>\n",
       "      <td>0.828560</td>\n",
       "      <td>0.704420</td>\n",
       "      <td>0.801125</td>\n",
       "      <td>0.806806</td>\n",
       "      <td>0.731568</td>\n",
       "      <td>0.774496</td>\n",
       "      <td>0.047811</td>\n",
       "      <td>5</td>\n",
       "    </tr>\n",
       "    <tr>\n",
       "      <th>3</th>\n",
       "      <td>0.003776</td>\n",
       "      <td>0.000507</td>\n",
       "      <td>0.002672</td>\n",
       "      <td>0.000393</td>\n",
       "      <td>1</td>\n",
       "      <td>{'alpha': 1}</td>\n",
       "      <td>0.828887</td>\n",
       "      <td>0.704806</td>\n",
       "      <td>0.800831</td>\n",
       "      <td>0.805702</td>\n",
       "      <td>0.735219</td>\n",
       "      <td>0.775089</td>\n",
       "      <td>0.046954</td>\n",
       "      <td>4</td>\n",
       "    </tr>\n",
       "    <tr>\n",
       "      <th>4</th>\n",
       "      <td>0.003671</td>\n",
       "      <td>0.000673</td>\n",
       "      <td>0.002381</td>\n",
       "      <td>0.000371</td>\n",
       "      <td>10</td>\n",
       "      <td>{'alpha': 10}</td>\n",
       "      <td>0.828777</td>\n",
       "      <td>0.704689</td>\n",
       "      <td>0.800286</td>\n",
       "      <td>0.804591</td>\n",
       "      <td>0.737874</td>\n",
       "      <td>0.775243</td>\n",
       "      <td>0.046322</td>\n",
       "      <td>3</td>\n",
       "    </tr>\n",
       "    <tr>\n",
       "      <th>5</th>\n",
       "      <td>0.003373</td>\n",
       "      <td>0.000578</td>\n",
       "      <td>0.002480</td>\n",
       "      <td>0.000444</td>\n",
       "      <td>100</td>\n",
       "      <td>{'alpha': 100}</td>\n",
       "      <td>0.828548</td>\n",
       "      <td>0.705236</td>\n",
       "      <td>0.800501</td>\n",
       "      <td>0.804445</td>\n",
       "      <td>0.738279</td>\n",
       "      <td>0.775402</td>\n",
       "      <td>0.046042</td>\n",
       "      <td>2</td>\n",
       "    </tr>\n",
       "    <tr>\n",
       "      <th>6</th>\n",
       "      <td>0.004068</td>\n",
       "      <td>0.000198</td>\n",
       "      <td>0.002579</td>\n",
       "      <td>0.000370</td>\n",
       "      <td>1000</td>\n",
       "      <td>{'alpha': 1000}</td>\n",
       "      <td>0.827331</td>\n",
       "      <td>0.706448</td>\n",
       "      <td>0.803143</td>\n",
       "      <td>0.805153</td>\n",
       "      <td>0.737558</td>\n",
       "      <td>0.775926</td>\n",
       "      <td>0.045906</td>\n",
       "      <td>1</td>\n",
       "    </tr>\n",
       "  </tbody>\n",
       "</table>\n",
       "</div>"
      ],
      "text/plain": [
       "   mean_fit_time  std_fit_time  mean_score_time  std_score_time param_alpha  \\\n",
       "0       0.003477      0.000548         0.002475        0.000543       0.001   \n",
       "1       0.002381      0.000578         0.001787        0.000399        0.01   \n",
       "2       0.003674      0.000746         0.002182        0.000506         0.1   \n",
       "3       0.003776      0.000507         0.002672        0.000393           1   \n",
       "4       0.003671      0.000673         0.002381        0.000371          10   \n",
       "5       0.003373      0.000578         0.002480        0.000444         100   \n",
       "6       0.004068      0.000198         0.002579        0.000370        1000   \n",
       "\n",
       "             params  split0_test_score  split1_test_score  split2_test_score  \\\n",
       "0  {'alpha': 0.001}           0.828430           0.704247           0.801145   \n",
       "1   {'alpha': 0.01}           0.828444           0.704266           0.801143   \n",
       "2    {'alpha': 0.1}           0.828560           0.704420           0.801125   \n",
       "3      {'alpha': 1}           0.828887           0.704806           0.800831   \n",
       "4     {'alpha': 10}           0.828777           0.704689           0.800286   \n",
       "5    {'alpha': 100}           0.828548           0.705236           0.800501   \n",
       "6   {'alpha': 1000}           0.827331           0.706448           0.803143   \n",
       "\n",
       "   split3_test_score  split4_test_score  mean_test_score  std_test_score  \\\n",
       "0           0.807046           0.730622         0.774298        0.048038   \n",
       "1           0.807023           0.730718         0.774319        0.048015   \n",
       "2           0.806806           0.731568         0.774496        0.047811   \n",
       "3           0.805702           0.735219         0.775089        0.046954   \n",
       "4           0.804591           0.737874         0.775243        0.046322   \n",
       "5           0.804445           0.738279         0.775402        0.046042   \n",
       "6           0.805153           0.737558         0.775926        0.045906   \n",
       "\n",
       "   rank_test_score  \n",
       "0                7  \n",
       "1                6  \n",
       "2                5  \n",
       "3                4  \n",
       "4                3  \n",
       "5                2  \n",
       "6                1  "
      ]
     },
     "execution_count": 27,
     "metadata": {},
     "output_type": "execute_result"
    }
   ],
   "source": [
    "# Ridge Grid Search\n",
    "param_grid_ridge = {'alpha': [0.001, 0.01, 0.1, 1, 10, 100, 1000]} \n",
    "\n",
    "grid_ridge = GridSearchCV(Ridge(), param_grid=param_grid_ridge) \n",
    "\n",
    "grid_ridge.fit(X_train, y_train) \n",
    "\n",
    "#extract best score and parameter by calling objects \"best_score_\" and \"best_params_\"\n",
    "print(\"best mean cross-validation score: {:.3f}\".format(grid_ridge.best_score_))\n",
    "print(\"best parameters: {}\".format(grid_ridge.best_params_))\n",
    "print(\"test-set score: {:.3f}\".format(grid_ridge.score(X_test, y_test))) \n",
    "results_ridge = pd.DataFrame(grid_ridge.cv_results_)\n",
    "results_ridge"
   ]
  },
  {
   "cell_type": "code",
   "execution_count": 28,
   "metadata": {},
   "outputs": [
    {
     "name": "stdout",
     "output_type": "stream",
     "text": [
      "best mean cross-validation score: 0.775\n",
      "best parameters: {'alpha': 1}\n",
      "test-set score: 0.851\n"
     ]
    }
   ],
   "source": [
    "# Lasso Grid Search\n",
    "param_grid_lasso = {'alpha': [0.001, 0.01, 0.1, 1, 10, 100, 1000]} \n",
    "\n",
    "grid_lasso = GridSearchCV(Lasso(max_iter=100000), param_grid=param_grid_lasso) \n",
    "\n",
    "grid_lasso.fit(X_train, y_train) \n",
    "\n",
    "#extract best score and parameter by calling objects \"best_score_\" and \"best_params_\"\n",
    "print(\"best mean cross-validation score: {:.3f}\".format(grid_lasso.best_score_))\n",
    "print(\"best parameters: {}\".format(grid_lasso.best_params_))\n",
    "print(\"test-set score: {:.3f}\".format(grid_lasso.score(X_test, y_test))) \n",
    "results_ridge = pd.DataFrame(grid_lasso.cv_results_)\n"
   ]
  },
  {
   "cell_type": "markdown",
   "metadata": {},
   "source": [
    "The application of GridSearchCV slightly improve the cv scores."
   ]
  },
  {
   "cell_type": "markdown",
   "metadata": {},
   "source": [
    "1.5 Compare the coefficients of your two best linear models (not knn), do they agree on which features are important?\n",
    "\n",
    "The two best models are ridge with alpha = 1000 and lasso with alpha = 1. \n",
    "No, compared to Ridge, lasso uses L1 penalty, which can force some coefficients to be zero. Therefore, we have 7 coefficients in lasso and 9 in ridge. Among the common coefficients the two models have, they both assigns the largest absolute coefficient value to avginc, and the second largest to mealpct."
   ]
  },
  {
   "cell_type": "code",
   "execution_count": 29,
   "metadata": {},
   "outputs": [
    {
     "data": {
      "text/html": [
       "<div>\n",
       "<style scoped>\n",
       "    .dataframe tbody tr th:only-of-type {\n",
       "        vertical-align: middle;\n",
       "    }\n",
       "\n",
       "    .dataframe tbody tr th {\n",
       "        vertical-align: top;\n",
       "    }\n",
       "\n",
       "    .dataframe thead th {\n",
       "        text-align: right;\n",
       "    }\n",
       "</style>\n",
       "<table border=\"1\" class=\"dataframe\">\n",
       "  <thead>\n",
       "    <tr style=\"text-align: right;\">\n",
       "      <th></th>\n",
       "      <th>enrltot</th>\n",
       "      <th>teachers</th>\n",
       "      <th>calwpct</th>\n",
       "      <th>mealpct</th>\n",
       "      <th>compstu</th>\n",
       "      <th>expnstu</th>\n",
       "      <th>str</th>\n",
       "      <th>avginc</th>\n",
       "      <th>elpct</th>\n",
       "    </tr>\n",
       "  </thead>\n",
       "  <tbody>\n",
       "    <tr>\n",
       "      <th>192</th>\n",
       "      <td>6201</td>\n",
       "      <td>339.100006</td>\n",
       "      <td>7.179600</td>\n",
       "      <td>47.702499</td>\n",
       "      <td>0.102242</td>\n",
       "      <td>5215.943848</td>\n",
       "      <td>18.286640</td>\n",
       "      <td>19.589636</td>\n",
       "      <td>47.879375</td>\n",
       "    </tr>\n",
       "    <tr>\n",
       "      <th>69</th>\n",
       "      <td>1154</td>\n",
       "      <td>62.099998</td>\n",
       "      <td>22.927700</td>\n",
       "      <td>84.920601</td>\n",
       "      <td>0.111785</td>\n",
       "      <td>6056.497070</td>\n",
       "      <td>18.582932</td>\n",
       "      <td>11.665000</td>\n",
       "      <td>55.892544</td>\n",
       "    </tr>\n",
       "    <tr>\n",
       "      <th>287</th>\n",
       "      <td>2231</td>\n",
       "      <td>114.300003</td>\n",
       "      <td>2.916100</td>\n",
       "      <td>13.369200</td>\n",
       "      <td>0.115643</td>\n",
       "      <td>5599.607910</td>\n",
       "      <td>19.518810</td>\n",
       "      <td>16.955999</td>\n",
       "      <td>13.626176</td>\n",
       "    </tr>\n",
       "    <tr>\n",
       "      <th>136</th>\n",
       "      <td>104</td>\n",
       "      <td>5.000000</td>\n",
       "      <td>32.381001</td>\n",
       "      <td>49.523800</td>\n",
       "      <td>0.182692</td>\n",
       "      <td>5594.196289</td>\n",
       "      <td>20.799999</td>\n",
       "      <td>9.972000</td>\n",
       "      <td>13.461539</td>\n",
       "    </tr>\n",
       "    <tr>\n",
       "      <th>114</th>\n",
       "      <td>239</td>\n",
       "      <td>12.200000</td>\n",
       "      <td>15.611800</td>\n",
       "      <td>69.620300</td>\n",
       "      <td>0.125523</td>\n",
       "      <td>4441.672852</td>\n",
       "      <td>19.590164</td>\n",
       "      <td>14.066000</td>\n",
       "      <td>8.786611</td>\n",
       "    </tr>\n",
       "  </tbody>\n",
       "</table>\n",
       "</div>"
      ],
      "text/plain": [
       "     enrltot    teachers    calwpct    mealpct   compstu      expnstu  \\\n",
       "192     6201  339.100006   7.179600  47.702499  0.102242  5215.943848   \n",
       "69      1154   62.099998  22.927700  84.920601  0.111785  6056.497070   \n",
       "287     2231  114.300003   2.916100  13.369200  0.115643  5599.607910   \n",
       "136      104    5.000000  32.381001  49.523800  0.182692  5594.196289   \n",
       "114      239   12.200000  15.611800  69.620300  0.125523  4441.672852   \n",
       "\n",
       "           str     avginc      elpct  \n",
       "192  18.286640  19.589636  47.879375  \n",
       "69   18.582932  11.665000  55.892544  \n",
       "287  19.518810  16.955999  13.626176  \n",
       "136  20.799999   9.972000  13.461539  \n",
       "114  19.590164  14.066000   8.786611  "
      ]
     },
     "execution_count": 29,
     "metadata": {},
     "output_type": "execute_result"
    }
   ],
   "source": [
    "X_train.head()"
   ]
  },
  {
   "cell_type": "code",
   "execution_count": 30,
   "metadata": {},
   "outputs": [
    {
     "data": {
      "text/plain": [
       "{'alpha': 1000}"
      ]
     },
     "execution_count": 30,
     "metadata": {},
     "output_type": "execute_result"
    }
   ],
   "source": [
    "grid_ridge.best_params_\n"
   ]
  },
  {
   "cell_type": "code",
   "execution_count": 31,
   "metadata": {},
   "outputs": [
    {
     "data": {
      "text/plain": [
       "{'alpha': 1}"
      ]
     },
     "execution_count": 31,
     "metadata": {},
     "output_type": "execute_result"
    }
   ],
   "source": [
    "grid_lasso.best_params_"
   ]
  },
  {
   "cell_type": "code",
   "execution_count": 32,
   "metadata": {},
   "outputs": [
    {
     "name": "stdout",
     "output_type": "stream",
     "text": [
      "Number of features used: 9\n"
     ]
    },
    {
     "data": {
      "text/plain": [
       "array([-0.0018328 ,  0.0389024 , -0.1096461 , -0.38629872,  0.01270623,\n",
       "        0.00213543, -0.09134638,  0.49761015, -0.20084118])"
      ]
     },
     "execution_count": 32,
     "metadata": {},
     "output_type": "execute_result"
    }
   ],
   "source": [
    "ridge_best = Ridge(alpha= 1000)\n",
    "ridge_best.fit(X_train, y_train)\n",
    "print(\"Number of features used: {}\".format(np.sum(ridge_best.coef_ != 0)))\n",
    "ridge_best.coef_"
   ]
  },
  {
   "cell_type": "code",
   "execution_count": 33,
   "metadata": {},
   "outputs": [
    {
     "name": "stdout",
     "output_type": "stream",
     "text": [
      "Number of features used: 7\n"
     ]
    },
    {
     "data": {
      "text/plain": [
       "array([-0.00161779,  0.03378895, -0.0891825 , -0.38975071,  0.        ,\n",
       "        0.00217126, -0.        ,  0.5261505 , -0.19723764])"
      ]
     },
     "execution_count": 33,
     "metadata": {},
     "output_type": "execute_result"
    }
   ],
   "source": [
    "lasso_best = Lasso(alpha= 1, max_iter=100000)\n",
    "lasso_best.fit(X_train, y_train)\n",
    "print(\"Number of features used: {}\".format(np.sum(lasso_best.coef_ != 0)))\n",
    "lasso_best.coef_"
   ]
  },
  {
   "cell_type": "markdown",
   "metadata": {},
   "source": [
    "1.6 Discuss which final model you would choose to predict new data"
   ]
  },
  {
   "cell_type": "code",
   "execution_count": 34,
   "metadata": {},
   "outputs": [
    {
     "name": "stdout",
     "output_type": "stream",
     "text": [
      "Ridge KFold CV Score :\n",
      "0.7759264448614255\n"
     ]
    }
   ],
   "source": [
    "CV_score_rbest = cross_val_score(ridge_best, X_train, y_train, cv=kfold).mean()\n",
    "\n",
    "print(\"Ridge KFold CV Score :\\n{}\".format(CV_score_rbest))"
   ]
  },
  {
   "cell_type": "code",
   "execution_count": 35,
   "metadata": {},
   "outputs": [
    {
     "name": "stdout",
     "output_type": "stream",
     "text": [
      "Ridge KFold CV Score :\n",
      "0.7752635356753672\n"
     ]
    }
   ],
   "source": [
    "CV_score_lbest = cross_val_score(lasso_best, X_train, y_train, cv=kfold).mean()\n",
    "\n",
    "print(\"Ridge KFold CV Score :\\n{}\".format(CV_score_lbest))"
   ]
  },
  {
   "cell_type": "code",
   "execution_count": 36,
   "metadata": {},
   "outputs": [
    {
     "name": "stdout",
     "output_type": "stream",
     "text": [
      "accuracy: 0.85\n"
     ]
    }
   ],
   "source": [
    "print(\"accuracy: {:.2f}\".format(ridge_best.score(X_test, y_test)))"
   ]
  },
  {
   "cell_type": "code",
   "execution_count": 37,
   "metadata": {},
   "outputs": [
    {
     "name": "stdout",
     "output_type": "stream",
     "text": [
      "accuracy: 0.85\n"
     ]
    }
   ],
   "source": [
    "print(\"accuracy: {:.2f}\".format(lasso_best.score(X_test, y_test)))"
   ]
  },
  {
   "cell_type": "markdown",
   "metadata": {},
   "source": [
    "I would choose Ridge, which has the highest cv score. "
   ]
  },
  {
   "cell_type": "markdown",
   "metadata": {},
   "source": [
    "## Part 2: Classification on red and white wine characteristics\n",
    "\n",
    "First, import the red and the white wine csv files into separate pandas dataframes from the following website:\n",
    "\n",
    "https://archive.ics.uci.edu/ml/machine-learning-databases/wine-quality\n",
    "\n",
    "(Note: you need to adjust the argument for read_csv() from sep=',' to sep=';')\n",
    "\n",
    "Add a new column to each data frame called \"winetype\".  For the white wine dataset label the values in this column with a 0, indicating white wine.  For the red wine dataset, label values with a 1, indicating red wine.  Combine both datasets into a single dataframe.\n",
    "\n",
    "The target data (i.e. the dependent variable) is \"winetype\"."
   ]
  },
  {
   "cell_type": "code",
   "execution_count": 38,
   "metadata": {},
   "outputs": [
    {
     "data": {
      "text/html": [
       "<div>\n",
       "<style scoped>\n",
       "    .dataframe tbody tr th:only-of-type {\n",
       "        vertical-align: middle;\n",
       "    }\n",
       "\n",
       "    .dataframe tbody tr th {\n",
       "        vertical-align: top;\n",
       "    }\n",
       "\n",
       "    .dataframe thead th {\n",
       "        text-align: right;\n",
       "    }\n",
       "</style>\n",
       "<table border=\"1\" class=\"dataframe\">\n",
       "  <thead>\n",
       "    <tr style=\"text-align: right;\">\n",
       "      <th></th>\n",
       "      <th>fixed acidity</th>\n",
       "      <th>volatile acidity</th>\n",
       "      <th>citric acid</th>\n",
       "      <th>residual sugar</th>\n",
       "      <th>chlorides</th>\n",
       "      <th>free sulfur dioxide</th>\n",
       "      <th>total sulfur dioxide</th>\n",
       "      <th>density</th>\n",
       "      <th>pH</th>\n",
       "      <th>sulphates</th>\n",
       "      <th>alcohol</th>\n",
       "      <th>quality</th>\n",
       "      <th>winetype</th>\n",
       "    </tr>\n",
       "  </thead>\n",
       "  <tbody>\n",
       "    <tr>\n",
       "      <th>0</th>\n",
       "      <td>7.4</td>\n",
       "      <td>0.70</td>\n",
       "      <td>0.00</td>\n",
       "      <td>1.9</td>\n",
       "      <td>0.076</td>\n",
       "      <td>11.0</td>\n",
       "      <td>34.0</td>\n",
       "      <td>0.9978</td>\n",
       "      <td>3.51</td>\n",
       "      <td>0.56</td>\n",
       "      <td>9.4</td>\n",
       "      <td>5</td>\n",
       "      <td>1</td>\n",
       "    </tr>\n",
       "    <tr>\n",
       "      <th>1</th>\n",
       "      <td>7.8</td>\n",
       "      <td>0.88</td>\n",
       "      <td>0.00</td>\n",
       "      <td>2.6</td>\n",
       "      <td>0.098</td>\n",
       "      <td>25.0</td>\n",
       "      <td>67.0</td>\n",
       "      <td>0.9968</td>\n",
       "      <td>3.20</td>\n",
       "      <td>0.68</td>\n",
       "      <td>9.8</td>\n",
       "      <td>5</td>\n",
       "      <td>1</td>\n",
       "    </tr>\n",
       "    <tr>\n",
       "      <th>2</th>\n",
       "      <td>7.8</td>\n",
       "      <td>0.76</td>\n",
       "      <td>0.04</td>\n",
       "      <td>2.3</td>\n",
       "      <td>0.092</td>\n",
       "      <td>15.0</td>\n",
       "      <td>54.0</td>\n",
       "      <td>0.9970</td>\n",
       "      <td>3.26</td>\n",
       "      <td>0.65</td>\n",
       "      <td>9.8</td>\n",
       "      <td>5</td>\n",
       "      <td>1</td>\n",
       "    </tr>\n",
       "    <tr>\n",
       "      <th>3</th>\n",
       "      <td>11.2</td>\n",
       "      <td>0.28</td>\n",
       "      <td>0.56</td>\n",
       "      <td>1.9</td>\n",
       "      <td>0.075</td>\n",
       "      <td>17.0</td>\n",
       "      <td>60.0</td>\n",
       "      <td>0.9980</td>\n",
       "      <td>3.16</td>\n",
       "      <td>0.58</td>\n",
       "      <td>9.8</td>\n",
       "      <td>6</td>\n",
       "      <td>1</td>\n",
       "    </tr>\n",
       "    <tr>\n",
       "      <th>4</th>\n",
       "      <td>7.4</td>\n",
       "      <td>0.70</td>\n",
       "      <td>0.00</td>\n",
       "      <td>1.9</td>\n",
       "      <td>0.076</td>\n",
       "      <td>11.0</td>\n",
       "      <td>34.0</td>\n",
       "      <td>0.9978</td>\n",
       "      <td>3.51</td>\n",
       "      <td>0.56</td>\n",
       "      <td>9.4</td>\n",
       "      <td>5</td>\n",
       "      <td>1</td>\n",
       "    </tr>\n",
       "    <tr>\n",
       "      <th>5</th>\n",
       "      <td>7.4</td>\n",
       "      <td>0.66</td>\n",
       "      <td>0.00</td>\n",
       "      <td>1.8</td>\n",
       "      <td>0.075</td>\n",
       "      <td>13.0</td>\n",
       "      <td>40.0</td>\n",
       "      <td>0.9978</td>\n",
       "      <td>3.51</td>\n",
       "      <td>0.56</td>\n",
       "      <td>9.4</td>\n",
       "      <td>5</td>\n",
       "      <td>1</td>\n",
       "    </tr>\n",
       "    <tr>\n",
       "      <th>6</th>\n",
       "      <td>7.9</td>\n",
       "      <td>0.60</td>\n",
       "      <td>0.06</td>\n",
       "      <td>1.6</td>\n",
       "      <td>0.069</td>\n",
       "      <td>15.0</td>\n",
       "      <td>59.0</td>\n",
       "      <td>0.9964</td>\n",
       "      <td>3.30</td>\n",
       "      <td>0.46</td>\n",
       "      <td>9.4</td>\n",
       "      <td>5</td>\n",
       "      <td>1</td>\n",
       "    </tr>\n",
       "    <tr>\n",
       "      <th>7</th>\n",
       "      <td>7.3</td>\n",
       "      <td>0.65</td>\n",
       "      <td>0.00</td>\n",
       "      <td>1.2</td>\n",
       "      <td>0.065</td>\n",
       "      <td>15.0</td>\n",
       "      <td>21.0</td>\n",
       "      <td>0.9946</td>\n",
       "      <td>3.39</td>\n",
       "      <td>0.47</td>\n",
       "      <td>10.0</td>\n",
       "      <td>7</td>\n",
       "      <td>1</td>\n",
       "    </tr>\n",
       "    <tr>\n",
       "      <th>8</th>\n",
       "      <td>7.8</td>\n",
       "      <td>0.58</td>\n",
       "      <td>0.02</td>\n",
       "      <td>2.0</td>\n",
       "      <td>0.073</td>\n",
       "      <td>9.0</td>\n",
       "      <td>18.0</td>\n",
       "      <td>0.9968</td>\n",
       "      <td>3.36</td>\n",
       "      <td>0.57</td>\n",
       "      <td>9.5</td>\n",
       "      <td>7</td>\n",
       "      <td>1</td>\n",
       "    </tr>\n",
       "    <tr>\n",
       "      <th>9</th>\n",
       "      <td>7.5</td>\n",
       "      <td>0.50</td>\n",
       "      <td>0.36</td>\n",
       "      <td>6.1</td>\n",
       "      <td>0.071</td>\n",
       "      <td>17.0</td>\n",
       "      <td>102.0</td>\n",
       "      <td>0.9978</td>\n",
       "      <td>3.35</td>\n",
       "      <td>0.80</td>\n",
       "      <td>10.5</td>\n",
       "      <td>5</td>\n",
       "      <td>1</td>\n",
       "    </tr>\n",
       "  </tbody>\n",
       "</table>\n",
       "</div>"
      ],
      "text/plain": [
       "   fixed acidity  volatile acidity  citric acid  residual sugar  chlorides  \\\n",
       "0            7.4              0.70         0.00             1.9      0.076   \n",
       "1            7.8              0.88         0.00             2.6      0.098   \n",
       "2            7.8              0.76         0.04             2.3      0.092   \n",
       "3           11.2              0.28         0.56             1.9      0.075   \n",
       "4            7.4              0.70         0.00             1.9      0.076   \n",
       "5            7.4              0.66         0.00             1.8      0.075   \n",
       "6            7.9              0.60         0.06             1.6      0.069   \n",
       "7            7.3              0.65         0.00             1.2      0.065   \n",
       "8            7.8              0.58         0.02             2.0      0.073   \n",
       "9            7.5              0.50         0.36             6.1      0.071   \n",
       "\n",
       "   free sulfur dioxide  total sulfur dioxide  density    pH  sulphates  \\\n",
       "0                 11.0                  34.0   0.9978  3.51       0.56   \n",
       "1                 25.0                  67.0   0.9968  3.20       0.68   \n",
       "2                 15.0                  54.0   0.9970  3.26       0.65   \n",
       "3                 17.0                  60.0   0.9980  3.16       0.58   \n",
       "4                 11.0                  34.0   0.9978  3.51       0.56   \n",
       "5                 13.0                  40.0   0.9978  3.51       0.56   \n",
       "6                 15.0                  59.0   0.9964  3.30       0.46   \n",
       "7                 15.0                  21.0   0.9946  3.39       0.47   \n",
       "8                  9.0                  18.0   0.9968  3.36       0.57   \n",
       "9                 17.0                 102.0   0.9978  3.35       0.80   \n",
       "\n",
       "   alcohol  quality  winetype  \n",
       "0      9.4        5         1  \n",
       "1      9.8        5         1  \n",
       "2      9.8        5         1  \n",
       "3      9.8        6         1  \n",
       "4      9.4        5         1  \n",
       "5      9.4        5         1  \n",
       "6      9.4        5         1  \n",
       "7     10.0        7         1  \n",
       "8      9.5        7         1  \n",
       "9     10.5        5         1  "
      ]
     },
     "execution_count": 38,
     "metadata": {},
     "output_type": "execute_result"
    }
   ],
   "source": [
    "data_red = pd.read_csv(\"https://archive.ics.uci.edu/ml/machine-learning-databases/wine-quality/winequality-red.csv\", sep = \";\")\n",
    "data_red[\"winetype\"] = 1\n",
    "data_red.head(10)"
   ]
  },
  {
   "cell_type": "code",
   "execution_count": 39,
   "metadata": {},
   "outputs": [
    {
     "data": {
      "text/html": [
       "<div>\n",
       "<style scoped>\n",
       "    .dataframe tbody tr th:only-of-type {\n",
       "        vertical-align: middle;\n",
       "    }\n",
       "\n",
       "    .dataframe tbody tr th {\n",
       "        vertical-align: top;\n",
       "    }\n",
       "\n",
       "    .dataframe thead th {\n",
       "        text-align: right;\n",
       "    }\n",
       "</style>\n",
       "<table border=\"1\" class=\"dataframe\">\n",
       "  <thead>\n",
       "    <tr style=\"text-align: right;\">\n",
       "      <th></th>\n",
       "      <th>fixed acidity</th>\n",
       "      <th>volatile acidity</th>\n",
       "      <th>citric acid</th>\n",
       "      <th>residual sugar</th>\n",
       "      <th>chlorides</th>\n",
       "      <th>free sulfur dioxide</th>\n",
       "      <th>total sulfur dioxide</th>\n",
       "      <th>density</th>\n",
       "      <th>pH</th>\n",
       "      <th>sulphates</th>\n",
       "      <th>alcohol</th>\n",
       "      <th>quality</th>\n",
       "      <th>winetype</th>\n",
       "    </tr>\n",
       "  </thead>\n",
       "  <tbody>\n",
       "    <tr>\n",
       "      <th>0</th>\n",
       "      <td>7.0</td>\n",
       "      <td>0.27</td>\n",
       "      <td>0.36</td>\n",
       "      <td>20.7</td>\n",
       "      <td>0.045</td>\n",
       "      <td>45.0</td>\n",
       "      <td>170.0</td>\n",
       "      <td>1.0010</td>\n",
       "      <td>3.00</td>\n",
       "      <td>0.45</td>\n",
       "      <td>8.8</td>\n",
       "      <td>6</td>\n",
       "      <td>0</td>\n",
       "    </tr>\n",
       "    <tr>\n",
       "      <th>1</th>\n",
       "      <td>6.3</td>\n",
       "      <td>0.30</td>\n",
       "      <td>0.34</td>\n",
       "      <td>1.6</td>\n",
       "      <td>0.049</td>\n",
       "      <td>14.0</td>\n",
       "      <td>132.0</td>\n",
       "      <td>0.9940</td>\n",
       "      <td>3.30</td>\n",
       "      <td>0.49</td>\n",
       "      <td>9.5</td>\n",
       "      <td>6</td>\n",
       "      <td>0</td>\n",
       "    </tr>\n",
       "    <tr>\n",
       "      <th>2</th>\n",
       "      <td>8.1</td>\n",
       "      <td>0.28</td>\n",
       "      <td>0.40</td>\n",
       "      <td>6.9</td>\n",
       "      <td>0.050</td>\n",
       "      <td>30.0</td>\n",
       "      <td>97.0</td>\n",
       "      <td>0.9951</td>\n",
       "      <td>3.26</td>\n",
       "      <td>0.44</td>\n",
       "      <td>10.1</td>\n",
       "      <td>6</td>\n",
       "      <td>0</td>\n",
       "    </tr>\n",
       "    <tr>\n",
       "      <th>3</th>\n",
       "      <td>7.2</td>\n",
       "      <td>0.23</td>\n",
       "      <td>0.32</td>\n",
       "      <td>8.5</td>\n",
       "      <td>0.058</td>\n",
       "      <td>47.0</td>\n",
       "      <td>186.0</td>\n",
       "      <td>0.9956</td>\n",
       "      <td>3.19</td>\n",
       "      <td>0.40</td>\n",
       "      <td>9.9</td>\n",
       "      <td>6</td>\n",
       "      <td>0</td>\n",
       "    </tr>\n",
       "    <tr>\n",
       "      <th>4</th>\n",
       "      <td>7.2</td>\n",
       "      <td>0.23</td>\n",
       "      <td>0.32</td>\n",
       "      <td>8.5</td>\n",
       "      <td>0.058</td>\n",
       "      <td>47.0</td>\n",
       "      <td>186.0</td>\n",
       "      <td>0.9956</td>\n",
       "      <td>3.19</td>\n",
       "      <td>0.40</td>\n",
       "      <td>9.9</td>\n",
       "      <td>6</td>\n",
       "      <td>0</td>\n",
       "    </tr>\n",
       "    <tr>\n",
       "      <th>5</th>\n",
       "      <td>8.1</td>\n",
       "      <td>0.28</td>\n",
       "      <td>0.40</td>\n",
       "      <td>6.9</td>\n",
       "      <td>0.050</td>\n",
       "      <td>30.0</td>\n",
       "      <td>97.0</td>\n",
       "      <td>0.9951</td>\n",
       "      <td>3.26</td>\n",
       "      <td>0.44</td>\n",
       "      <td>10.1</td>\n",
       "      <td>6</td>\n",
       "      <td>0</td>\n",
       "    </tr>\n",
       "    <tr>\n",
       "      <th>6</th>\n",
       "      <td>6.2</td>\n",
       "      <td>0.32</td>\n",
       "      <td>0.16</td>\n",
       "      <td>7.0</td>\n",
       "      <td>0.045</td>\n",
       "      <td>30.0</td>\n",
       "      <td>136.0</td>\n",
       "      <td>0.9949</td>\n",
       "      <td>3.18</td>\n",
       "      <td>0.47</td>\n",
       "      <td>9.6</td>\n",
       "      <td>6</td>\n",
       "      <td>0</td>\n",
       "    </tr>\n",
       "    <tr>\n",
       "      <th>7</th>\n",
       "      <td>7.0</td>\n",
       "      <td>0.27</td>\n",
       "      <td>0.36</td>\n",
       "      <td>20.7</td>\n",
       "      <td>0.045</td>\n",
       "      <td>45.0</td>\n",
       "      <td>170.0</td>\n",
       "      <td>1.0010</td>\n",
       "      <td>3.00</td>\n",
       "      <td>0.45</td>\n",
       "      <td>8.8</td>\n",
       "      <td>6</td>\n",
       "      <td>0</td>\n",
       "    </tr>\n",
       "    <tr>\n",
       "      <th>8</th>\n",
       "      <td>6.3</td>\n",
       "      <td>0.30</td>\n",
       "      <td>0.34</td>\n",
       "      <td>1.6</td>\n",
       "      <td>0.049</td>\n",
       "      <td>14.0</td>\n",
       "      <td>132.0</td>\n",
       "      <td>0.9940</td>\n",
       "      <td>3.30</td>\n",
       "      <td>0.49</td>\n",
       "      <td>9.5</td>\n",
       "      <td>6</td>\n",
       "      <td>0</td>\n",
       "    </tr>\n",
       "    <tr>\n",
       "      <th>9</th>\n",
       "      <td>8.1</td>\n",
       "      <td>0.22</td>\n",
       "      <td>0.43</td>\n",
       "      <td>1.5</td>\n",
       "      <td>0.044</td>\n",
       "      <td>28.0</td>\n",
       "      <td>129.0</td>\n",
       "      <td>0.9938</td>\n",
       "      <td>3.22</td>\n",
       "      <td>0.45</td>\n",
       "      <td>11.0</td>\n",
       "      <td>6</td>\n",
       "      <td>0</td>\n",
       "    </tr>\n",
       "  </tbody>\n",
       "</table>\n",
       "</div>"
      ],
      "text/plain": [
       "   fixed acidity  volatile acidity  citric acid  residual sugar  chlorides  \\\n",
       "0            7.0              0.27         0.36            20.7      0.045   \n",
       "1            6.3              0.30         0.34             1.6      0.049   \n",
       "2            8.1              0.28         0.40             6.9      0.050   \n",
       "3            7.2              0.23         0.32             8.5      0.058   \n",
       "4            7.2              0.23         0.32             8.5      0.058   \n",
       "5            8.1              0.28         0.40             6.9      0.050   \n",
       "6            6.2              0.32         0.16             7.0      0.045   \n",
       "7            7.0              0.27         0.36            20.7      0.045   \n",
       "8            6.3              0.30         0.34             1.6      0.049   \n",
       "9            8.1              0.22         0.43             1.5      0.044   \n",
       "\n",
       "   free sulfur dioxide  total sulfur dioxide  density    pH  sulphates  \\\n",
       "0                 45.0                 170.0   1.0010  3.00       0.45   \n",
       "1                 14.0                 132.0   0.9940  3.30       0.49   \n",
       "2                 30.0                  97.0   0.9951  3.26       0.44   \n",
       "3                 47.0                 186.0   0.9956  3.19       0.40   \n",
       "4                 47.0                 186.0   0.9956  3.19       0.40   \n",
       "5                 30.0                  97.0   0.9951  3.26       0.44   \n",
       "6                 30.0                 136.0   0.9949  3.18       0.47   \n",
       "7                 45.0                 170.0   1.0010  3.00       0.45   \n",
       "8                 14.0                 132.0   0.9940  3.30       0.49   \n",
       "9                 28.0                 129.0   0.9938  3.22       0.45   \n",
       "\n",
       "   alcohol  quality  winetype  \n",
       "0      8.8        6         0  \n",
       "1      9.5        6         0  \n",
       "2     10.1        6         0  \n",
       "3      9.9        6         0  \n",
       "4      9.9        6         0  \n",
       "5     10.1        6         0  \n",
       "6      9.6        6         0  \n",
       "7      8.8        6         0  \n",
       "8      9.5        6         0  \n",
       "9     11.0        6         0  "
      ]
     },
     "execution_count": 39,
     "metadata": {},
     "output_type": "execute_result"
    }
   ],
   "source": [
    "data_white = pd.read_csv(\"https://archive.ics.uci.edu/ml/machine-learning-databases/wine-quality/winequality-white.csv\", sep = \";\")\n",
    "data_white[\"winetype\"] = 0\n",
    "data_white.head(10)"
   ]
  },
  {
   "cell_type": "code",
   "execution_count": 40,
   "metadata": {},
   "outputs": [
    {
     "data": {
      "text/html": [
       "<div>\n",
       "<style scoped>\n",
       "    .dataframe tbody tr th:only-of-type {\n",
       "        vertical-align: middle;\n",
       "    }\n",
       "\n",
       "    .dataframe tbody tr th {\n",
       "        vertical-align: top;\n",
       "    }\n",
       "\n",
       "    .dataframe thead th {\n",
       "        text-align: right;\n",
       "    }\n",
       "</style>\n",
       "<table border=\"1\" class=\"dataframe\">\n",
       "  <thead>\n",
       "    <tr style=\"text-align: right;\">\n",
       "      <th></th>\n",
       "      <th>fixed acidity</th>\n",
       "      <th>volatile acidity</th>\n",
       "      <th>citric acid</th>\n",
       "      <th>residual sugar</th>\n",
       "      <th>chlorides</th>\n",
       "      <th>free sulfur dioxide</th>\n",
       "      <th>total sulfur dioxide</th>\n",
       "      <th>density</th>\n",
       "      <th>pH</th>\n",
       "      <th>sulphates</th>\n",
       "      <th>alcohol</th>\n",
       "      <th>quality</th>\n",
       "      <th>winetype</th>\n",
       "    </tr>\n",
       "  </thead>\n",
       "  <tbody>\n",
       "    <tr>\n",
       "      <th>0</th>\n",
       "      <td>7.4</td>\n",
       "      <td>0.70</td>\n",
       "      <td>0.00</td>\n",
       "      <td>1.9</td>\n",
       "      <td>0.076</td>\n",
       "      <td>11.0</td>\n",
       "      <td>34.0</td>\n",
       "      <td>0.9978</td>\n",
       "      <td>3.51</td>\n",
       "      <td>0.56</td>\n",
       "      <td>9.4</td>\n",
       "      <td>5</td>\n",
       "      <td>1</td>\n",
       "    </tr>\n",
       "    <tr>\n",
       "      <th>1</th>\n",
       "      <td>7.8</td>\n",
       "      <td>0.88</td>\n",
       "      <td>0.00</td>\n",
       "      <td>2.6</td>\n",
       "      <td>0.098</td>\n",
       "      <td>25.0</td>\n",
       "      <td>67.0</td>\n",
       "      <td>0.9968</td>\n",
       "      <td>3.20</td>\n",
       "      <td>0.68</td>\n",
       "      <td>9.8</td>\n",
       "      <td>5</td>\n",
       "      <td>1</td>\n",
       "    </tr>\n",
       "    <tr>\n",
       "      <th>2</th>\n",
       "      <td>7.8</td>\n",
       "      <td>0.76</td>\n",
       "      <td>0.04</td>\n",
       "      <td>2.3</td>\n",
       "      <td>0.092</td>\n",
       "      <td>15.0</td>\n",
       "      <td>54.0</td>\n",
       "      <td>0.9970</td>\n",
       "      <td>3.26</td>\n",
       "      <td>0.65</td>\n",
       "      <td>9.8</td>\n",
       "      <td>5</td>\n",
       "      <td>1</td>\n",
       "    </tr>\n",
       "    <tr>\n",
       "      <th>3</th>\n",
       "      <td>11.2</td>\n",
       "      <td>0.28</td>\n",
       "      <td>0.56</td>\n",
       "      <td>1.9</td>\n",
       "      <td>0.075</td>\n",
       "      <td>17.0</td>\n",
       "      <td>60.0</td>\n",
       "      <td>0.9980</td>\n",
       "      <td>3.16</td>\n",
       "      <td>0.58</td>\n",
       "      <td>9.8</td>\n",
       "      <td>6</td>\n",
       "      <td>1</td>\n",
       "    </tr>\n",
       "    <tr>\n",
       "      <th>4</th>\n",
       "      <td>7.4</td>\n",
       "      <td>0.70</td>\n",
       "      <td>0.00</td>\n",
       "      <td>1.9</td>\n",
       "      <td>0.076</td>\n",
       "      <td>11.0</td>\n",
       "      <td>34.0</td>\n",
       "      <td>0.9978</td>\n",
       "      <td>3.51</td>\n",
       "      <td>0.56</td>\n",
       "      <td>9.4</td>\n",
       "      <td>5</td>\n",
       "      <td>1</td>\n",
       "    </tr>\n",
       "    <tr>\n",
       "      <th>5</th>\n",
       "      <td>7.4</td>\n",
       "      <td>0.66</td>\n",
       "      <td>0.00</td>\n",
       "      <td>1.8</td>\n",
       "      <td>0.075</td>\n",
       "      <td>13.0</td>\n",
       "      <td>40.0</td>\n",
       "      <td>0.9978</td>\n",
       "      <td>3.51</td>\n",
       "      <td>0.56</td>\n",
       "      <td>9.4</td>\n",
       "      <td>5</td>\n",
       "      <td>1</td>\n",
       "    </tr>\n",
       "    <tr>\n",
       "      <th>6</th>\n",
       "      <td>7.9</td>\n",
       "      <td>0.60</td>\n",
       "      <td>0.06</td>\n",
       "      <td>1.6</td>\n",
       "      <td>0.069</td>\n",
       "      <td>15.0</td>\n",
       "      <td>59.0</td>\n",
       "      <td>0.9964</td>\n",
       "      <td>3.30</td>\n",
       "      <td>0.46</td>\n",
       "      <td>9.4</td>\n",
       "      <td>5</td>\n",
       "      <td>1</td>\n",
       "    </tr>\n",
       "    <tr>\n",
       "      <th>7</th>\n",
       "      <td>7.3</td>\n",
       "      <td>0.65</td>\n",
       "      <td>0.00</td>\n",
       "      <td>1.2</td>\n",
       "      <td>0.065</td>\n",
       "      <td>15.0</td>\n",
       "      <td>21.0</td>\n",
       "      <td>0.9946</td>\n",
       "      <td>3.39</td>\n",
       "      <td>0.47</td>\n",
       "      <td>10.0</td>\n",
       "      <td>7</td>\n",
       "      <td>1</td>\n",
       "    </tr>\n",
       "    <tr>\n",
       "      <th>8</th>\n",
       "      <td>7.8</td>\n",
       "      <td>0.58</td>\n",
       "      <td>0.02</td>\n",
       "      <td>2.0</td>\n",
       "      <td>0.073</td>\n",
       "      <td>9.0</td>\n",
       "      <td>18.0</td>\n",
       "      <td>0.9968</td>\n",
       "      <td>3.36</td>\n",
       "      <td>0.57</td>\n",
       "      <td>9.5</td>\n",
       "      <td>7</td>\n",
       "      <td>1</td>\n",
       "    </tr>\n",
       "    <tr>\n",
       "      <th>9</th>\n",
       "      <td>7.5</td>\n",
       "      <td>0.50</td>\n",
       "      <td>0.36</td>\n",
       "      <td>6.1</td>\n",
       "      <td>0.071</td>\n",
       "      <td>17.0</td>\n",
       "      <td>102.0</td>\n",
       "      <td>0.9978</td>\n",
       "      <td>3.35</td>\n",
       "      <td>0.80</td>\n",
       "      <td>10.5</td>\n",
       "      <td>5</td>\n",
       "      <td>1</td>\n",
       "    </tr>\n",
       "  </tbody>\n",
       "</table>\n",
       "</div>"
      ],
      "text/plain": [
       "   fixed acidity  volatile acidity  citric acid  residual sugar  chlorides  \\\n",
       "0            7.4              0.70         0.00             1.9      0.076   \n",
       "1            7.8              0.88         0.00             2.6      0.098   \n",
       "2            7.8              0.76         0.04             2.3      0.092   \n",
       "3           11.2              0.28         0.56             1.9      0.075   \n",
       "4            7.4              0.70         0.00             1.9      0.076   \n",
       "5            7.4              0.66         0.00             1.8      0.075   \n",
       "6            7.9              0.60         0.06             1.6      0.069   \n",
       "7            7.3              0.65         0.00             1.2      0.065   \n",
       "8            7.8              0.58         0.02             2.0      0.073   \n",
       "9            7.5              0.50         0.36             6.1      0.071   \n",
       "\n",
       "   free sulfur dioxide  total sulfur dioxide  density    pH  sulphates  \\\n",
       "0                 11.0                  34.0   0.9978  3.51       0.56   \n",
       "1                 25.0                  67.0   0.9968  3.20       0.68   \n",
       "2                 15.0                  54.0   0.9970  3.26       0.65   \n",
       "3                 17.0                  60.0   0.9980  3.16       0.58   \n",
       "4                 11.0                  34.0   0.9978  3.51       0.56   \n",
       "5                 13.0                  40.0   0.9978  3.51       0.56   \n",
       "6                 15.0                  59.0   0.9964  3.30       0.46   \n",
       "7                 15.0                  21.0   0.9946  3.39       0.47   \n",
       "8                  9.0                  18.0   0.9968  3.36       0.57   \n",
       "9                 17.0                 102.0   0.9978  3.35       0.80   \n",
       "\n",
       "   alcohol  quality  winetype  \n",
       "0      9.4        5         1  \n",
       "1      9.8        5         1  \n",
       "2      9.8        5         1  \n",
       "3      9.8        6         1  \n",
       "4      9.4        5         1  \n",
       "5      9.4        5         1  \n",
       "6      9.4        5         1  \n",
       "7     10.0        7         1  \n",
       "8      9.5        7         1  \n",
       "9     10.5        5         1  "
      ]
     },
     "execution_count": 40,
     "metadata": {},
     "output_type": "execute_result"
    }
   ],
   "source": [
    "list_frame = [data_red, data_white]\n",
    "data_wine = pd.concat(list_frame)\n",
    "data_wine.head(10)"
   ]
  },
  {
   "cell_type": "code",
   "execution_count": 41,
   "metadata": {},
   "outputs": [
    {
     "data": {
      "text/html": [
       "<div>\n",
       "<style scoped>\n",
       "    .dataframe tbody tr th:only-of-type {\n",
       "        vertical-align: middle;\n",
       "    }\n",
       "\n",
       "    .dataframe tbody tr th {\n",
       "        vertical-align: top;\n",
       "    }\n",
       "\n",
       "    .dataframe thead th {\n",
       "        text-align: right;\n",
       "    }\n",
       "</style>\n",
       "<table border=\"1\" class=\"dataframe\">\n",
       "  <thead>\n",
       "    <tr style=\"text-align: right;\">\n",
       "      <th></th>\n",
       "      <th>fixed acidity</th>\n",
       "      <th>volatile acidity</th>\n",
       "      <th>citric acid</th>\n",
       "      <th>residual sugar</th>\n",
       "      <th>chlorides</th>\n",
       "      <th>free sulfur dioxide</th>\n",
       "      <th>total sulfur dioxide</th>\n",
       "      <th>density</th>\n",
       "      <th>pH</th>\n",
       "      <th>sulphates</th>\n",
       "      <th>alcohol</th>\n",
       "      <th>quality</th>\n",
       "      <th>winetype</th>\n",
       "    </tr>\n",
       "  </thead>\n",
       "  <tbody>\n",
       "    <tr>\n",
       "      <th>4893</th>\n",
       "      <td>6.2</td>\n",
       "      <td>0.21</td>\n",
       "      <td>0.29</td>\n",
       "      <td>1.6</td>\n",
       "      <td>0.039</td>\n",
       "      <td>24.0</td>\n",
       "      <td>92.0</td>\n",
       "      <td>0.99114</td>\n",
       "      <td>3.27</td>\n",
       "      <td>0.50</td>\n",
       "      <td>11.2</td>\n",
       "      <td>6</td>\n",
       "      <td>0</td>\n",
       "    </tr>\n",
       "    <tr>\n",
       "      <th>4894</th>\n",
       "      <td>6.6</td>\n",
       "      <td>0.32</td>\n",
       "      <td>0.36</td>\n",
       "      <td>8.0</td>\n",
       "      <td>0.047</td>\n",
       "      <td>57.0</td>\n",
       "      <td>168.0</td>\n",
       "      <td>0.99490</td>\n",
       "      <td>3.15</td>\n",
       "      <td>0.46</td>\n",
       "      <td>9.6</td>\n",
       "      <td>5</td>\n",
       "      <td>0</td>\n",
       "    </tr>\n",
       "    <tr>\n",
       "      <th>4895</th>\n",
       "      <td>6.5</td>\n",
       "      <td>0.24</td>\n",
       "      <td>0.19</td>\n",
       "      <td>1.2</td>\n",
       "      <td>0.041</td>\n",
       "      <td>30.0</td>\n",
       "      <td>111.0</td>\n",
       "      <td>0.99254</td>\n",
       "      <td>2.99</td>\n",
       "      <td>0.46</td>\n",
       "      <td>9.4</td>\n",
       "      <td>6</td>\n",
       "      <td>0</td>\n",
       "    </tr>\n",
       "    <tr>\n",
       "      <th>4896</th>\n",
       "      <td>5.5</td>\n",
       "      <td>0.29</td>\n",
       "      <td>0.30</td>\n",
       "      <td>1.1</td>\n",
       "      <td>0.022</td>\n",
       "      <td>20.0</td>\n",
       "      <td>110.0</td>\n",
       "      <td>0.98869</td>\n",
       "      <td>3.34</td>\n",
       "      <td>0.38</td>\n",
       "      <td>12.8</td>\n",
       "      <td>7</td>\n",
       "      <td>0</td>\n",
       "    </tr>\n",
       "    <tr>\n",
       "      <th>4897</th>\n",
       "      <td>6.0</td>\n",
       "      <td>0.21</td>\n",
       "      <td>0.38</td>\n",
       "      <td>0.8</td>\n",
       "      <td>0.020</td>\n",
       "      <td>22.0</td>\n",
       "      <td>98.0</td>\n",
       "      <td>0.98941</td>\n",
       "      <td>3.26</td>\n",
       "      <td>0.32</td>\n",
       "      <td>11.8</td>\n",
       "      <td>6</td>\n",
       "      <td>0</td>\n",
       "    </tr>\n",
       "  </tbody>\n",
       "</table>\n",
       "</div>"
      ],
      "text/plain": [
       "      fixed acidity  volatile acidity  citric acid  residual sugar  chlorides  \\\n",
       "4893            6.2              0.21         0.29             1.6      0.039   \n",
       "4894            6.6              0.32         0.36             8.0      0.047   \n",
       "4895            6.5              0.24         0.19             1.2      0.041   \n",
       "4896            5.5              0.29         0.30             1.1      0.022   \n",
       "4897            6.0              0.21         0.38             0.8      0.020   \n",
       "\n",
       "      free sulfur dioxide  total sulfur dioxide  density    pH  sulphates  \\\n",
       "4893                 24.0                  92.0  0.99114  3.27       0.50   \n",
       "4894                 57.0                 168.0  0.99490  3.15       0.46   \n",
       "4895                 30.0                 111.0  0.99254  2.99       0.46   \n",
       "4896                 20.0                 110.0  0.98869  3.34       0.38   \n",
       "4897                 22.0                  98.0  0.98941  3.26       0.32   \n",
       "\n",
       "      alcohol  quality  winetype  \n",
       "4893     11.2        6         0  \n",
       "4894      9.6        5         0  \n",
       "4895      9.4        6         0  \n",
       "4896     12.8        7         0  \n",
       "4897     11.8        6         0  "
      ]
     },
     "execution_count": 41,
     "metadata": {},
     "output_type": "execute_result"
    }
   ],
   "source": [
    "data_wine.tail()"
   ]
  },
  {
   "cell_type": "markdown",
   "metadata": {},
   "source": [
    "2.1 Visualize the univariate distribution of the target feature and each of the three explanatory variables that you think are likely to have a relationship with the target feature.  "
   ]
  },
  {
   "cell_type": "code",
   "execution_count": 42,
   "metadata": {},
   "outputs": [],
   "source": [
    "y_wine = data_wine['winetype']\n",
    "X_wine = data_wine.loc[:, data_wine.columns != 'winetype']"
   ]
  },
  {
   "cell_type": "code",
   "execution_count": 43,
   "metadata": {},
   "outputs": [
    {
     "data": {
      "text/plain": [
       "0    1\n",
       "1    1\n",
       "2    1\n",
       "3    1\n",
       "4    1\n",
       "Name: winetype, dtype: int64"
      ]
     },
     "execution_count": 43,
     "metadata": {},
     "output_type": "execute_result"
    }
   ],
   "source": [
    "y_wine.head()"
   ]
  },
  {
   "cell_type": "code",
   "execution_count": 44,
   "metadata": {},
   "outputs": [
    {
     "data": {
      "text/html": [
       "<div>\n",
       "<style scoped>\n",
       "    .dataframe tbody tr th:only-of-type {\n",
       "        vertical-align: middle;\n",
       "    }\n",
       "\n",
       "    .dataframe tbody tr th {\n",
       "        vertical-align: top;\n",
       "    }\n",
       "\n",
       "    .dataframe thead th {\n",
       "        text-align: right;\n",
       "    }\n",
       "</style>\n",
       "<table border=\"1\" class=\"dataframe\">\n",
       "  <thead>\n",
       "    <tr style=\"text-align: right;\">\n",
       "      <th></th>\n",
       "      <th>fixed acidity</th>\n",
       "      <th>volatile acidity</th>\n",
       "      <th>citric acid</th>\n",
       "      <th>residual sugar</th>\n",
       "      <th>chlorides</th>\n",
       "      <th>free sulfur dioxide</th>\n",
       "      <th>total sulfur dioxide</th>\n",
       "      <th>density</th>\n",
       "      <th>pH</th>\n",
       "      <th>sulphates</th>\n",
       "      <th>alcohol</th>\n",
       "      <th>quality</th>\n",
       "    </tr>\n",
       "  </thead>\n",
       "  <tbody>\n",
       "    <tr>\n",
       "      <th>0</th>\n",
       "      <td>7.4</td>\n",
       "      <td>0.70</td>\n",
       "      <td>0.00</td>\n",
       "      <td>1.9</td>\n",
       "      <td>0.076</td>\n",
       "      <td>11.0</td>\n",
       "      <td>34.0</td>\n",
       "      <td>0.9978</td>\n",
       "      <td>3.51</td>\n",
       "      <td>0.56</td>\n",
       "      <td>9.4</td>\n",
       "      <td>5</td>\n",
       "    </tr>\n",
       "    <tr>\n",
       "      <th>1</th>\n",
       "      <td>7.8</td>\n",
       "      <td>0.88</td>\n",
       "      <td>0.00</td>\n",
       "      <td>2.6</td>\n",
       "      <td>0.098</td>\n",
       "      <td>25.0</td>\n",
       "      <td>67.0</td>\n",
       "      <td>0.9968</td>\n",
       "      <td>3.20</td>\n",
       "      <td>0.68</td>\n",
       "      <td>9.8</td>\n",
       "      <td>5</td>\n",
       "    </tr>\n",
       "    <tr>\n",
       "      <th>2</th>\n",
       "      <td>7.8</td>\n",
       "      <td>0.76</td>\n",
       "      <td>0.04</td>\n",
       "      <td>2.3</td>\n",
       "      <td>0.092</td>\n",
       "      <td>15.0</td>\n",
       "      <td>54.0</td>\n",
       "      <td>0.9970</td>\n",
       "      <td>3.26</td>\n",
       "      <td>0.65</td>\n",
       "      <td>9.8</td>\n",
       "      <td>5</td>\n",
       "    </tr>\n",
       "    <tr>\n",
       "      <th>3</th>\n",
       "      <td>11.2</td>\n",
       "      <td>0.28</td>\n",
       "      <td>0.56</td>\n",
       "      <td>1.9</td>\n",
       "      <td>0.075</td>\n",
       "      <td>17.0</td>\n",
       "      <td>60.0</td>\n",
       "      <td>0.9980</td>\n",
       "      <td>3.16</td>\n",
       "      <td>0.58</td>\n",
       "      <td>9.8</td>\n",
       "      <td>6</td>\n",
       "    </tr>\n",
       "    <tr>\n",
       "      <th>4</th>\n",
       "      <td>7.4</td>\n",
       "      <td>0.70</td>\n",
       "      <td>0.00</td>\n",
       "      <td>1.9</td>\n",
       "      <td>0.076</td>\n",
       "      <td>11.0</td>\n",
       "      <td>34.0</td>\n",
       "      <td>0.9978</td>\n",
       "      <td>3.51</td>\n",
       "      <td>0.56</td>\n",
       "      <td>9.4</td>\n",
       "      <td>5</td>\n",
       "    </tr>\n",
       "  </tbody>\n",
       "</table>\n",
       "</div>"
      ],
      "text/plain": [
       "   fixed acidity  volatile acidity  citric acid  residual sugar  chlorides  \\\n",
       "0            7.4              0.70         0.00             1.9      0.076   \n",
       "1            7.8              0.88         0.00             2.6      0.098   \n",
       "2            7.8              0.76         0.04             2.3      0.092   \n",
       "3           11.2              0.28         0.56             1.9      0.075   \n",
       "4            7.4              0.70         0.00             1.9      0.076   \n",
       "\n",
       "   free sulfur dioxide  total sulfur dioxide  density    pH  sulphates  \\\n",
       "0                 11.0                  34.0   0.9978  3.51       0.56   \n",
       "1                 25.0                  67.0   0.9968  3.20       0.68   \n",
       "2                 15.0                  54.0   0.9970  3.26       0.65   \n",
       "3                 17.0                  60.0   0.9980  3.16       0.58   \n",
       "4                 11.0                  34.0   0.9978  3.51       0.56   \n",
       "\n",
       "   alcohol  quality  \n",
       "0      9.4        5  \n",
       "1      9.8        5  \n",
       "2      9.8        5  \n",
       "3      9.8        6  \n",
       "4      9.4        5  "
      ]
     },
     "execution_count": 44,
     "metadata": {},
     "output_type": "execute_result"
    }
   ],
   "source": [
    "X_wine.head()"
   ]
  },
  {
   "cell_type": "code",
   "execution_count": 45,
   "metadata": {},
   "outputs": [
    {
     "data": {
      "text/plain": [
       "Text(0, 0.5, 'Count')"
      ]
     },
     "execution_count": 45,
     "metadata": {},
     "output_type": "execute_result"
    },
    {
     "data": {
      "image/png": "[encoded data removed]",
      "text/plain": [
       "<Figure size 432x288 with 1 Axes>"
      ]
     },
     "metadata": {
      "needs_background": "light"
     },
     "output_type": "display_data"
    }
   ],
   "source": [
    "data_wine ['density'].hist()\n",
    "plt.xlabel('density')\n",
    "plt.ylabel('Count')"
   ]
  },
  {
   "cell_type": "code",
   "execution_count": 46,
   "metadata": {},
   "outputs": [
    {
     "data": {
      "text/plain": [
       "Text(0, 0.5, 'Count')"
      ]
     },
     "execution_count": 46,
     "metadata": {},
     "output_type": "execute_result"
    },
    {
     "data": {
      "image/png": "[encoded data removed]",
      "text/plain": [
       "<Figure size 432x288 with 1 Axes>"
      ]
     },
     "metadata": {
      "needs_background": "light"
     },
     "output_type": "display_data"
    }
   ],
   "source": [
    "data_wine ['pH'].hist()\n",
    "plt.xlabel('density')\n",
    "plt.ylabel('Count')"
   ]
  },
  {
   "cell_type": "code",
   "execution_count": 47,
   "metadata": {},
   "outputs": [
    {
     "data": {
      "text/plain": [
       "Text(0, 0.5, 'Count')"
      ]
     },
     "execution_count": 47,
     "metadata": {},
     "output_type": "execute_result"
    },
    {
     "data": {
      "image/png": "[encoded data removed]",
      "text/plain": [
       "<Figure size 432x288 with 1 Axes>"
      ]
     },
     "metadata": {
      "needs_background": "light"
     },
     "output_type": "display_data"
    }
   ],
   "source": [
    "data_wine ['alcohol'].hist()\n",
    "plt.xlabel('density')\n",
    "plt.ylabel('Count')"
   ]
  },
  {
   "cell_type": "code",
   "execution_count": 48,
   "metadata": {},
   "outputs": [
    {
     "data": {
      "text/plain": [
       "Text(0, 0.5, 'Count')"
      ]
     },
     "execution_count": 48,
     "metadata": {},
     "output_type": "execute_result"
    },
    {
     "data": {
      "image/png": "[encoded data removed]",
      "text/plain": [
       "<Figure size 432x288 with 1 Axes>"
      ]
     },
     "metadata": {
      "needs_background": "light"
     },
     "output_type": "display_data"
    }
   ],
   "source": [
    "data_wine ['winetype'].hist()\n",
    "plt.xlabel('winetype')\n",
    "plt.ylabel('Count')"
   ]
  },
  {
   "cell_type": "markdown",
   "metadata": {},
   "source": [
    "2.2 Split data into training and test set. Build models that evaluate the relationship between all available X variables in the dataset and the target variable. Evaluate Logistic Regression, Penalized Logistic Regression, and KNN for classification using cross-validation. How different are the results? How does scaling the data with StandardScaler influence the results?"
   ]
  },
  {
   "cell_type": "code",
   "execution_count": 49,
   "metadata": {},
   "outputs": [],
   "source": [
    "from sklearn.linear_model import LogisticRegression\n",
    "X_train_wine, X_test_wine, y_train_wine, y_test_wine = train_test_split(X_wine, y_wine, random_state = 6) \n"
   ]
  },
  {
   "cell_type": "code",
   "execution_count": 50,
   "metadata": {},
   "outputs": [
    {
     "name": "stdout",
     "output_type": "stream",
     "text": [
      "KNN for classification KFold CV Score :\n",
      "0.9392451955983783\n"
     ]
    }
   ],
   "source": [
    "# KNN for classification\n",
    "from sklearn.neighbors import KNeighborsClassifier\n",
    "\n",
    "CV_score_kc = cross_val_score(KNeighborsClassifier(), X_train_wine, y_train_wine, cv=kfold).mean()\n",
    "\n",
    "print(\"KNN for classification KFold CV Score :\\n{}\".format(CV_score_kc))\n"
   ]
  },
  {
   "cell_type": "code",
   "execution_count": 51,
   "metadata": {},
   "outputs": [
    {
     "name": "stdout",
     "output_type": "stream",
     "text": [
      "Logistic Regression regression KFold CV Score :\n",
      "0.9907627020481229\n"
     ]
    }
   ],
   "source": [
    "# Logistic Regression on wine type\n",
    "\n",
    "CV_score_lg = cross_val_score(LogisticRegression(C=1e90, max_iter=100000), X_train_wine, y_train_wine, cv=kfold).mean()\n",
    "\n",
    "print(\"Logistic Regression regression KFold CV Score :\\n{}\".format(CV_score_lg))\n"
   ]
  },
  {
   "cell_type": "code",
   "execution_count": 52,
   "metadata": {},
   "outputs": [
    {
     "name": "stdout",
     "output_type": "stream",
     "text": [
      "Penalized Logistic Regression regression KFold CV Score :\n",
      "0.9874785447270048\n"
     ]
    }
   ],
   "source": [
    "# Penalized Logistic Regression on wine type\n",
    "CV_score_plg = cross_val_score(LogisticRegression(C=100, max_iter=100000), X_train_wine, y_train_wine, cv=kfold).mean()\n",
    "\n",
    "print(\"Penalized Logistic Regression regression KFold CV Score :\\n{}\".format(CV_score_plg))"
   ]
  },
  {
   "cell_type": "markdown",
   "metadata": {},
   "source": [
    "The performance of all three models are good. The best one is logistic regresson model. The second best one is Penalized Logistic Regression. Even the worst model KNN for classification achieves a score of 0.94."
   ]
  },
  {
   "cell_type": "code",
   "execution_count": 53,
   "metadata": {},
   "outputs": [],
   "source": [
    "scaler2 = preprocessing.StandardScaler()\n",
    "scaler2.fit(X_train_wine)\n",
    "X_train_wine_scaled = scaler2.transform(X_train_wine)\n",
    "X_test_wine_scaled = scaler2.transform(X_test_wine)"
   ]
  },
  {
   "cell_type": "code",
   "execution_count": 54,
   "metadata": {},
   "outputs": [
    {
     "name": "stdout",
     "output_type": "stream",
     "text": [
      "After scaling, KNN for classification KFold CV Score :\n",
      "0.9919947349023325\n"
     ]
    }
   ],
   "source": [
    "# After scaling, KNN for classification\n",
    "CV_score_kc_2 = cross_val_score(KNeighborsClassifier(), X_train_wine_scaled, y_train_wine, cv=kfold).mean()\n",
    "\n",
    "print(\"After scaling, KNN for classification KFold CV Score :\\n{}\".format(CV_score_kc_2))\n"
   ]
  },
  {
   "cell_type": "code",
   "execution_count": 55,
   "metadata": {},
   "outputs": [
    {
     "name": "stdout",
     "output_type": "stream",
     "text": [
      "After scaling, Logistic Regression regression KFold CV Score :\n",
      "0.9926105407255305\n"
     ]
    }
   ],
   "source": [
    "# After scaling, Logistic Regression on wine type\n",
    "\n",
    "CV_score_lg_2 = cross_val_score(LogisticRegression(C=1e90, max_iter=100000), X_train_wine_scaled, y_train_wine, cv=kfold).mean()\n",
    "\n",
    "print(\"After scaling, Logistic Regression regression KFold CV Score :\\n{}\".format(CV_score_lg_2))\n"
   ]
  },
  {
   "cell_type": "code",
   "execution_count": 56,
   "metadata": {},
   "outputs": [
    {
     "name": "stdout",
     "output_type": "stream",
     "text": [
      "After scaling, Penalized Logistic Regression regression KFold CV Score :\n",
      "0.9917896066972041\n"
     ]
    }
   ],
   "source": [
    "# After scaling, Penalized Logistic Regression on wine type\n",
    "CV_score_plg_2 = cross_val_score(LogisticRegression( max_iter=100000), X_train_wine_scaled, y_train_wine, cv=kfold).mean()\n",
    "\n",
    "print(\"After scaling, Penalized Logistic Regression regression KFold CV Score :\\n{}\".format(CV_score_plg_2))"
   ]
  },
  {
   "cell_type": "markdown",
   "metadata": {},
   "source": [
    "After scaling the data with StandardScaler, the cv scores of the three model increase. It appears StandardScaler can improve the predication ability of our models. Now logistics regression is still the best one, but the second is knn for classification. The last one is penalized logistic regression."
   ]
  },
  {
   "cell_type": "markdown",
   "metadata": {},
   "source": [
    "2.3 Tune the parameters where possible using GridSearchCV. Do the results improve?\n",
    "\n",
    "The results improve after using GridSearchCV as shown below."
   ]
  },
  {
   "cell_type": "code",
   "execution_count": 57,
   "metadata": {},
   "outputs": [
    {
     "name": "stdout",
     "output_type": "stream",
     "text": [
      "best mean cross-validation score: 0.946\n",
      "best parameters: {'n_neighbors': 1}\n",
      "test-set score: 0.943\n"
     ]
    }
   ],
   "source": [
    "# GridSearchCV on KNN classifier \n",
    "param_grid_knn2 = {'n_neighbors': np.arange(1, 25, 2)} \n",
    "grid_knn2 = GridSearchCV(KNeighborsClassifier(), param_grid=param_grid_knn2)\n",
    "grid_knn2.fit(X_train_wine, y_train_wine) \n",
    "\n",
    "print(\"best mean cross-validation score: {:.3f}\".format(grid_knn2.best_score_))\n",
    "print(\"best parameters: {}\".format(grid_knn2.best_params_))\n",
    "print(\"test-set score: {:.3f}\".format(grid_knn2.score(X_test_wine, y_test_wine))) \n"
   ]
  },
  {
   "cell_type": "code",
   "execution_count": 58,
   "metadata": {},
   "outputs": [
    {
     "data": {
      "text/plain": [
       "[1, 10, 100, 1000, 10000, 100000]"
      ]
     },
     "execution_count": 58,
     "metadata": {},
     "output_type": "execute_result"
    }
   ],
   "source": [
    "pow1 = np.arange(0, 6)\n",
    "param_grid_lg_arr = []\n",
    "for i in pow1:\n",
    "    param_grid_lg_arr.append(pow(10,i))\n",
    "    \n",
    "param_grid_lg_arr"
   ]
  },
  {
   "cell_type": "code",
   "execution_count": 59,
   "metadata": {
    "scrolled": true
   },
   "outputs": [
    {
     "name": "stdout",
     "output_type": "stream",
     "text": [
      "best mean cross-validation score: 0.989\n",
      "best parameters: {'C': 100000}\n",
      "test-set score: 0.990\n"
     ]
    }
   ],
   "source": [
    "# GridSearchCV on logistic regression \n",
    "param_grid_lg = {'C': param_grid_lg_arr} \n",
    "grid_lg = GridSearchCV(LogisticRegression(max_iter=100000), param_grid=param_grid_lg)\n",
    "grid_lg.fit(X_train_wine, y_train_wine) \n",
    "\n",
    "print(\"best mean cross-validation score: {:.3f}\".format(grid_lg.best_score_))\n",
    "print(\"best parameters: {}\".format(grid_lg.best_params_))\n",
    "print(\"test-set score: {:.3f}\".format(grid_lg.score(X_test_wine, y_test_wine))) \n"
   ]
  },
  {
   "cell_type": "markdown",
   "metadata": {},
   "source": [
    "2.4 Change the cross-validation strategy in GridSearchCV from ‘stratified k-fold’ to ‘kfold’ with shuffling. Do the parameters for models that can be tuned change? Do they change if you change the random state of the split into training and test data?\n",
    "\n",
    "Applying the two methods, the parameters for models that can be tuned do not change.\n"
   ]
  },
  {
   "cell_type": "code",
   "execution_count": 60,
   "metadata": {},
   "outputs": [],
   "source": [
    "from sklearn.model_selection import StratifiedKFold\n",
    "skfold = StratifiedKFold(n_splits=5, shuffle=True)"
   ]
  },
  {
   "cell_type": "code",
   "execution_count": 61,
   "metadata": {},
   "outputs": [
    {
     "name": "stdout",
     "output_type": "stream",
     "text": [
      "best mean cross-validation score: 0.946\n",
      "best parameters: {'n_neighbors': 1}\n",
      "test-set score: 0.943\n"
     ]
    }
   ],
   "source": [
    "# GridSearchCV on KNN classifier \n",
    "\n",
    "grid_knn3 = GridSearchCV(KNeighborsClassifier(), param_grid=param_grid_knn2, cv=skfold )\n",
    "grid_knn3.fit(X_train_wine, y_train_wine) \n",
    "\n",
    "print(\"best mean cross-validation score: {:.3f}\".format(grid_knn3.best_score_))\n",
    "print(\"best parameters: {}\".format(grid_knn3.best_params_))\n",
    "print(\"test-set score: {:.3f}\".format(grid_knn3.score(X_test_wine, y_test_wine))) \n",
    "\n"
   ]
  },
  {
   "cell_type": "code",
   "execution_count": 62,
   "metadata": {},
   "outputs": [
    {
     "name": "stdout",
     "output_type": "stream",
     "text": [
      "best mean cross-validation score: 0.989\n",
      "best parameters: {'C': 100000}\n",
      "test-set score: 0.990\n"
     ]
    }
   ],
   "source": [
    "# GridSearchCV on logistic regression \n",
    "\n",
    "grid_lg3 = GridSearchCV(LogisticRegression(max_iter=100000), param_grid=param_grid_lg, cv=skfold )\n",
    "grid_lg3.fit(X_train_wine, y_train_wine) \n",
    "\n",
    "print(\"best mean cross-validation score: {:.3f}\".format(grid_lg3.best_score_))\n",
    "print(\"best parameters: {}\".format(grid_lg3.best_params_))\n",
    "print(\"test-set score: {:.3f}\".format(grid_lg3.score(X_test_wine, y_test_wine)))"
   ]
  },
  {
   "cell_type": "code",
   "execution_count": 63,
   "metadata": {},
   "outputs": [],
   "source": [
    "X_train_new, X_test_new, y_train_new, y_test_new = train_test_split(X_wine, y_wine, random_state = 16) "
   ]
  },
  {
   "cell_type": "code",
   "execution_count": 64,
   "metadata": {},
   "outputs": [
    {
     "name": "stdout",
     "output_type": "stream",
     "text": [
      "best mean cross-validation score: 0.950\n",
      "best parameters: {'n_neighbors': 1}\n",
      "test-set score: 0.943\n"
     ]
    }
   ],
   "source": [
    "# GridSearchCV on KNN classifier \n",
    "\n",
    "grid_knn4 = GridSearchCV(KNeighborsClassifier(), param_grid=param_grid_knn2, cv=skfold )\n",
    "grid_knn4.fit(X_train_new, y_train_new) \n",
    "\n",
    "print(\"best mean cross-validation score: {:.3f}\".format(grid_knn4.best_score_))\n",
    "print(\"best parameters: {}\".format(grid_knn4.best_params_))\n",
    "print(\"test-set score: {:.3f}\".format(grid_knn4.score(X_test_new, y_test_new))) "
   ]
  },
  {
   "cell_type": "code",
   "execution_count": 65,
   "metadata": {},
   "outputs": [
    {
     "name": "stdout",
     "output_type": "stream",
     "text": [
      "best mean cross-validation score: 0.992\n",
      "best parameters: {'C': 100000}\n",
      "test-set score: 0.991\n"
     ]
    }
   ],
   "source": [
    "# GridSearchCV on logistic regression \n",
    "\n",
    "grid_lg4 = GridSearchCV(LogisticRegression(max_iter=100000), param_grid=param_grid_lg, cv=skfold)\n",
    "grid_lg4.fit(X_train_new, y_train_new) \n",
    "\n",
    "print(\"best mean cross-validation score: {:.3f}\".format(grid_lg4.best_score_))\n",
    "print(\"best parameters: {}\".format(grid_lg4.best_params_))\n",
    "print(\"test-set score: {:.3f}\".format(grid_lg4.score(X_test_new, y_test_new)))"
   ]
  },
  {
   "cell_type": "markdown",
   "metadata": {},
   "source": [
    "2.5 Lastly, compare the coefficients for Logistic Regression and Penalized Logistic Regression and discuss which final model you would choose to predict new data.\n",
    "\n",
    "Based on the cv score, I choose the logistic regression without penalty."
   ]
  },
  {
   "cell_type": "markdown",
   "metadata": {},
   "source": [
    "Discussion:\n",
    "\n",
    "Regularization is to prevent overfitting, it often improves the performance of the model, but not neccessarily. In this case, we can see the model without penality outperforms the models with l1 and l2 penalty. In theory, the lasso approach can do predictor selection, which is considered as useful by many. \n",
    "\n",
    "I also think the solver and data amount can influence the performances of the three models. \n",
    "\n",
    "And it depends on our definition of \"the best model\", cross validation score is not the only factor to consider in practice. My opinion is that models with regularization are generally better and more flexible to be used on various situation. \n",
    "\n",
    "My conclusion is that, in this case, based on cv score, logistic regression without penalty is the best one. But we cannot deny the usefulness of regularization.\n",
    "\n",
    "* when writing this discussion, I read some comments on stackexchange forum."
   ]
  },
  {
   "cell_type": "code",
   "execution_count": 66,
   "metadata": {},
   "outputs": [
    {
     "data": {
      "text/html": [
       "<div>\n",
       "<style scoped>\n",
       "    .dataframe tbody tr th:only-of-type {\n",
       "        vertical-align: middle;\n",
       "    }\n",
       "\n",
       "    .dataframe tbody tr th {\n",
       "        vertical-align: top;\n",
       "    }\n",
       "\n",
       "    .dataframe thead th {\n",
       "        text-align: right;\n",
       "    }\n",
       "</style>\n",
       "<table border=\"1\" class=\"dataframe\">\n",
       "  <thead>\n",
       "    <tr style=\"text-align: right;\">\n",
       "      <th></th>\n",
       "      <th>fixed acidity</th>\n",
       "      <th>volatile acidity</th>\n",
       "      <th>citric acid</th>\n",
       "      <th>residual sugar</th>\n",
       "      <th>chlorides</th>\n",
       "      <th>free sulfur dioxide</th>\n",
       "      <th>total sulfur dioxide</th>\n",
       "      <th>density</th>\n",
       "      <th>pH</th>\n",
       "      <th>sulphates</th>\n",
       "      <th>alcohol</th>\n",
       "      <th>quality</th>\n",
       "    </tr>\n",
       "  </thead>\n",
       "  <tbody>\n",
       "    <tr>\n",
       "      <th>695</th>\n",
       "      <td>6.3</td>\n",
       "      <td>0.340</td>\n",
       "      <td>0.28</td>\n",
       "      <td>14.7</td>\n",
       "      <td>0.047</td>\n",
       "      <td>49.0</td>\n",
       "      <td>198.0</td>\n",
       "      <td>0.99770</td>\n",
       "      <td>3.23</td>\n",
       "      <td>0.46</td>\n",
       "      <td>9.5</td>\n",
       "      <td>5</td>\n",
       "    </tr>\n",
       "    <tr>\n",
       "      <th>554</th>\n",
       "      <td>15.5</td>\n",
       "      <td>0.645</td>\n",
       "      <td>0.49</td>\n",
       "      <td>4.2</td>\n",
       "      <td>0.095</td>\n",
       "      <td>10.0</td>\n",
       "      <td>23.0</td>\n",
       "      <td>1.00315</td>\n",
       "      <td>2.92</td>\n",
       "      <td>0.74</td>\n",
       "      <td>11.1</td>\n",
       "      <td>5</td>\n",
       "    </tr>\n",
       "    <tr>\n",
       "      <th>368</th>\n",
       "      <td>10.3</td>\n",
       "      <td>0.340</td>\n",
       "      <td>0.52</td>\n",
       "      <td>2.8</td>\n",
       "      <td>0.159</td>\n",
       "      <td>15.0</td>\n",
       "      <td>75.0</td>\n",
       "      <td>0.99980</td>\n",
       "      <td>3.18</td>\n",
       "      <td>0.64</td>\n",
       "      <td>9.4</td>\n",
       "      <td>5</td>\n",
       "    </tr>\n",
       "    <tr>\n",
       "      <th>3163</th>\n",
       "      <td>7.1</td>\n",
       "      <td>0.360</td>\n",
       "      <td>0.37</td>\n",
       "      <td>4.8</td>\n",
       "      <td>0.019</td>\n",
       "      <td>39.0</td>\n",
       "      <td>114.0</td>\n",
       "      <td>0.99036</td>\n",
       "      <td>3.08</td>\n",
       "      <td>0.49</td>\n",
       "      <td>12.7</td>\n",
       "      <td>7</td>\n",
       "    </tr>\n",
       "    <tr>\n",
       "      <th>512</th>\n",
       "      <td>10.7</td>\n",
       "      <td>0.400</td>\n",
       "      <td>0.48</td>\n",
       "      <td>2.1</td>\n",
       "      <td>0.125</td>\n",
       "      <td>15.0</td>\n",
       "      <td>49.0</td>\n",
       "      <td>0.99800</td>\n",
       "      <td>3.03</td>\n",
       "      <td>0.81</td>\n",
       "      <td>9.7</td>\n",
       "      <td>6</td>\n",
       "    </tr>\n",
       "  </tbody>\n",
       "</table>\n",
       "</div>"
      ],
      "text/plain": [
       "      fixed acidity  volatile acidity  citric acid  residual sugar  chlorides  \\\n",
       "695             6.3             0.340         0.28            14.7      0.047   \n",
       "554            15.5             0.645         0.49             4.2      0.095   \n",
       "368            10.3             0.340         0.52             2.8      0.159   \n",
       "3163            7.1             0.360         0.37             4.8      0.019   \n",
       "512            10.7             0.400         0.48             2.1      0.125   \n",
       "\n",
       "      free sulfur dioxide  total sulfur dioxide  density    pH  sulphates  \\\n",
       "695                  49.0                 198.0  0.99770  3.23       0.46   \n",
       "554                  10.0                  23.0  1.00315  2.92       0.74   \n",
       "368                  15.0                  75.0  0.99980  3.18       0.64   \n",
       "3163                 39.0                 114.0  0.99036  3.08       0.49   \n",
       "512                  15.0                  49.0  0.99800  3.03       0.81   \n",
       "\n",
       "      alcohol  quality  \n",
       "695       9.5        5  \n",
       "554      11.1        5  \n",
       "368       9.4        5  \n",
       "3163     12.7        7  \n",
       "512       9.7        6  "
      ]
     },
     "execution_count": 66,
     "metadata": {},
     "output_type": "execute_result"
    }
   ],
   "source": [
    "X_train_wine.head()"
   ]
  },
  {
   "cell_type": "code",
   "execution_count": 67,
   "metadata": {},
   "outputs": [
    {
     "name": "stdout",
     "output_type": "stream",
     "text": [
      "[[  1.50505101  11.26047704  -0.74223307  -0.08435702  38.8667941\n",
      "    0.04989719  -0.06607315 -22.11635863  10.05891699   8.49438368\n",
      "   -0.31154956   0.09986897]]\n",
      "0.9907627020481229\n"
     ]
    }
   ],
   "source": [
    "lg_none = LogisticRegression(penalty = 'none',max_iter =10000)\n",
    "lg_none.fit(X_train_wine, y_train_wine)\n",
    "print(lg_none.coef_)\n",
    "print(cross_val_score(lg_none, X_train_wine, y_train_wine, cv=kfold).mean())"
   ]
  },
  {
   "cell_type": "code",
   "execution_count": 68,
   "metadata": {},
   "outputs": [
    {
     "name": "stdout",
     "output_type": "stream",
     "text": [
      "[[ 8.62033596e-01  1.03470353e+01  0.00000000e+00 -1.32829199e-01\n",
      "   1.89926544e+01  4.79626761e-02 -6.29021184e-02 -9.08759673e+00\n",
      "   4.80033855e+00  8.25491419e+00 -5.55687887e-01  5.48640417e-04]]\n",
      "0.9862477754962354\n"
     ]
    }
   ],
   "source": [
    "plg_l1 = LogisticRegression( penalty = 'l1', solver = 'liblinear', max_iter =10000)\n",
    "plg_l1.fit(X_train_wine, y_train_wine)\n",
    "print(plg_l1.coef_)\n",
    "print(cross_val_score(plg_l1, X_train_wine, y_train_wine, cv=kfold).mean())"
   ]
  },
  {
   "cell_type": "code",
   "execution_count": 69,
   "metadata": {},
   "outputs": [
    {
     "name": "stdout",
     "output_type": "stream",
     "text": [
      "[[ 1.14167107  7.78296261 -0.8976565  -0.12942108  2.83453328  0.04478283\n",
      "  -0.05677304  0.1926742   5.94430923  5.65480288 -0.44893697 -0.01801836]]\n",
      "0.9837839203917234\n"
     ]
    }
   ],
   "source": [
    "plg_l2 = LogisticRegression(penalty = 'l2', max_iter=10000) #default C = 1.0\n",
    "plg_l2.fit(X_train_wine, y_train_wine)\n",
    "print(plg_l2.coef_)\n",
    "print(cross_val_score(plg_l2, X_train_wine, y_train_wine, cv=kfold).mean())"
   ]
  },
  {
   "cell_type": "code",
   "execution_count": 70,
   "metadata": {},
   "outputs": [
    {
     "data": {
      "text/html": [
       "<table class=\"simpletable\">\n",
       "<caption>Generalized Linear Model Regression Results</caption>\n",
       "<tr>\n",
       "  <th>Dep. Variable:</th>       <td>winetype</td>     <th>  No. Observations:  </th>  <td>  4872</td> \n",
       "</tr>\n",
       "<tr>\n",
       "  <th>Model:</th>                  <td>GLM</td>       <th>  Df Residuals:      </th>  <td>  4859</td> \n",
       "</tr>\n",
       "<tr>\n",
       "  <th>Model Family:</th>        <td>Binomial</td>     <th>  Df Model:          </th>  <td>    12</td> \n",
       "</tr>\n",
       "<tr>\n",
       "  <th>Link Function:</th>         <td>logit</td>      <th>  Scale:             </th> <td>  1.0000</td>\n",
       "</tr>\n",
       "<tr>\n",
       "  <th>Method:</th>                <td>IRLS</td>       <th>  Log-Likelihood:    </th> <td> -160.70</td>\n",
       "</tr>\n",
       "<tr>\n",
       "  <th>Date:</th>            <td>Wed, 17 Feb 2021</td> <th>  Deviance:          </th> <td>  321.40</td>\n",
       "</tr>\n",
       "<tr>\n",
       "  <th>Time:</th>                <td>12:00:57</td>     <th>  Pearson chi2:      </th> <td>2.75e+07</td>\n",
       "</tr>\n",
       "<tr>\n",
       "  <th>No. Iterations:</th>         <td>10</td>        <th>                     </th>     <td> </td>   \n",
       "</tr>\n",
       "<tr>\n",
       "  <th>Covariance Type:</th>     <td>nonrobust</td>    <th>                     </th>     <td> </td>   \n",
       "</tr>\n",
       "</table>\n",
       "<table class=\"simpletable\">\n",
       "<tr>\n",
       "            <td></td>              <th>coef</th>     <th>std err</th>      <th>z</th>      <th>P>|z|</th>  <th>[0.025</th>    <th>0.975]</th>  \n",
       "</tr>\n",
       "<tr>\n",
       "  <th>const</th>                <td>-1625.5531</td> <td>  203.801</td> <td>   -7.976</td> <td> 0.000</td> <td>-2024.995</td> <td>-1226.111</td>\n",
       "</tr>\n",
       "<tr>\n",
       "  <th>fixed acidity</th>        <td>   -0.1897</td> <td>    0.266</td> <td>   -0.712</td> <td> 0.476</td> <td>   -0.712</td> <td>    0.332</td>\n",
       "</tr>\n",
       "<tr>\n",
       "  <th>volatile acidity</th>     <td>    7.0467</td> <td>    1.231</td> <td>    5.722</td> <td> 0.000</td> <td>    4.633</td> <td>    9.460</td>\n",
       "</tr>\n",
       "<tr>\n",
       "  <th>citric acid</th>          <td>   -2.3938</td> <td>    1.369</td> <td>   -1.748</td> <td> 0.080</td> <td>   -5.077</td> <td>    0.290</td>\n",
       "</tr>\n",
       "<tr>\n",
       "  <th>residual sugar</th>       <td>   -0.9573</td> <td>    0.117</td> <td>   -8.213</td> <td> 0.000</td> <td>   -1.186</td> <td>   -0.729</td>\n",
       "</tr>\n",
       "<tr>\n",
       "  <th>chlorides</th>            <td>   23.3026</td> <td>    4.465</td> <td>    5.219</td> <td> 0.000</td> <td>   14.552</td> <td>   32.053</td>\n",
       "</tr>\n",
       "<tr>\n",
       "  <th>free sulfur dioxide</th>  <td>    0.0624</td> <td>    0.017</td> <td>    3.662</td> <td> 0.000</td> <td>    0.029</td> <td>    0.096</td>\n",
       "</tr>\n",
       "<tr>\n",
       "  <th>total sulfur dioxide</th> <td>   -0.0553</td> <td>    0.006</td> <td>   -9.498</td> <td> 0.000</td> <td>   -0.067</td> <td>   -0.044</td>\n",
       "</tr>\n",
       "<tr>\n",
       "  <th>density</th>              <td> 1619.3283</td> <td>  208.177</td> <td>    7.779</td> <td> 0.000</td> <td> 1211.308</td> <td> 2027.349</td>\n",
       "</tr>\n",
       "<tr>\n",
       "  <th>pH</th>                   <td>   -0.2935</td> <td>    1.634</td> <td>   -0.180</td> <td> 0.857</td> <td>   -3.497</td> <td>    2.910</td>\n",
       "</tr>\n",
       "<tr>\n",
       "  <th>sulphates</th>            <td>    3.5740</td> <td>    1.374</td> <td>    2.600</td> <td> 0.009</td> <td>    0.880</td> <td>    6.268</td>\n",
       "</tr>\n",
       "<tr>\n",
       "  <th>alcohol</th>              <td>    1.4418</td> <td>    0.297</td> <td>    4.861</td> <td> 0.000</td> <td>    0.861</td> <td>    2.023</td>\n",
       "</tr>\n",
       "<tr>\n",
       "  <th>quality</th>              <td>    0.4213</td> <td>    0.237</td> <td>    1.780</td> <td> 0.075</td> <td>   -0.043</td> <td>    0.885</td>\n",
       "</tr>\n",
       "</table>"
      ],
      "text/plain": [
       "<class 'statsmodels.iolib.summary.Summary'>\n",
       "\"\"\"\n",
       "                 Generalized Linear Model Regression Results                  \n",
       "==============================================================================\n",
       "Dep. Variable:               winetype   No. Observations:                 4872\n",
       "Model:                            GLM   Df Residuals:                     4859\n",
       "Model Family:                Binomial   Df Model:                           12\n",
       "Link Function:                  logit   Scale:                          1.0000\n",
       "Method:                          IRLS   Log-Likelihood:                -160.70\n",
       "Date:                Wed, 17 Feb 2021   Deviance:                       321.40\n",
       "Time:                        12:00:57   Pearson chi2:                 2.75e+07\n",
       "No. Iterations:                    10                                         \n",
       "Covariance Type:            nonrobust                                         \n",
       "========================================================================================\n",
       "                           coef    std err          z      P>|z|      [0.025      0.975]\n",
       "----------------------------------------------------------------------------------------\n",
       "const                -1625.5531    203.801     -7.976      0.000   -2024.995   -1226.111\n",
       "fixed acidity           -0.1897      0.266     -0.712      0.476      -0.712       0.332\n",
       "volatile acidity         7.0467      1.231      5.722      0.000       4.633       9.460\n",
       "citric acid             -2.3938      1.369     -1.748      0.080      -5.077       0.290\n",
       "residual sugar          -0.9573      0.117     -8.213      0.000      -1.186      -0.729\n",
       "chlorides               23.3026      4.465      5.219      0.000      14.552      32.053\n",
       "free sulfur dioxide      0.0624      0.017      3.662      0.000       0.029       0.096\n",
       "total sulfur dioxide    -0.0553      0.006     -9.498      0.000      -0.067      -0.044\n",
       "density               1619.3283    208.177      7.779      0.000    1211.308    2027.349\n",
       "pH                      -0.2935      1.634     -0.180      0.857      -3.497       2.910\n",
       "sulphates                3.5740      1.374      2.600      0.009       0.880       6.268\n",
       "alcohol                  1.4418      0.297      4.861      0.000       0.861       2.023\n",
       "quality                  0.4213      0.237      1.780      0.075      -0.043       0.885\n",
       "========================================================================================\n",
       "\"\"\""
      ]
     },
     "execution_count": 70,
     "metadata": {},
     "output_type": "execute_result"
    }
   ],
   "source": [
    "import statsmodels.api as sm\n",
    "\n",
    "X_train_new = sm.add_constant(X_train_wine)\n",
    "\n",
    "#family binomial \n",
    "model = sm.GLM(y_train_wine, X_train_new, family=sm.families.Binomial()).fit()\n",
    "\n",
    "model.summary()"
   ]
  },
  {
   "cell_type": "code",
   "execution_count": null,
   "metadata": {},
   "outputs": [],
   "source": []
  }
 ],
 "metadata": {
  "kernelspec": {
   "display_name": "Python 3",
   "language": "python",
   "name": "python3"
  },
  "language_info": {
   "codemirror_mode": {
    "name": "ipython",
    "version": 3
   },
   "file_extension": ".py",
   "mimetype": "text/x-python",
   "name": "python",
   "nbconvert_exporter": "python",
   "pygments_lexer": "ipython3",
   "version": "3.8.5"
  }
 },
 "nbformat": 4,
 "nbformat_minor": 4
}
