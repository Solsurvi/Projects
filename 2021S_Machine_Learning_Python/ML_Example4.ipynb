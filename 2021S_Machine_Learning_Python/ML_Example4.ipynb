{
 "cells": [
  {
   "cell_type": "markdown",
   "metadata": {},
   "source": [
    "Machine Learning Midterm Assignment \n",
    "by Ming Nie mn2984\n",
    "\n",
    "This assignment is based on my own knowledge and my understanding of the class notes, skicit learn official website and wikipedia."
   ]
  },
  {
   "cell_type": "code",
   "execution_count": 1,
   "metadata": {},
   "outputs": [],
   "source": [
    "#Import Python Libraries\n",
    "import numpy as np\n",
    "import scipy as sp\n",
    "import pandas as pd\n",
    "import matplotlib as mpl\n",
    "import seaborn as sns\n",
    "import statistics"
   ]
  },
  {
   "cell_type": "markdown",
   "metadata": {},
   "source": [
    "In answering each of the following questions please include a) the question as a markdown header in your Jupyter notebook, b)  the raw code that you used to generate any results, tables, or figures, and c) the top ten or fewer rows of the data-frame (do not include more than ten rows for any table in your report).\n",
    "\n",
    "Include any plots or figures generated from your code as well.\n",
    "\n",
    "Use the spam dataset and variable descriptions in the files/Mid-Term Exam folder of the course website to answer the following questions.   \n",
    "\n",
    "1.Import the spam dataset and print the first six rows.  \n",
    "\n",
    "2.Read through the documentation of the original dataset here:\n",
    "\n",
    "http://archive.ics.uci.edu/ml/machine-learning-databases/spambase/spambase.names\n",
    "\n",
    "The dependent variable is \"spam\" where one indicates that an email is spam and zero otherwise.  Which three variables in the dataset do you think will be important predictors in a model of spam?  Why?\n",
    "\n",
    "ANSWER: The three variables I choose are word_freq_free:(commercials always use this to attract customers), char_freq_!:(spam uses this to draw your attention, in formal emails, people tend to avoid the use of \"!\"),\tchar_freq_$:(marketing ads tend to use this to inform the receiver the price of their goods/service). "
   ]
  },
  {
   "cell_type": "code",
   "execution_count": 2,
   "metadata": {
    "scrolled": true
   },
   "outputs": [
    {
     "data": {
      "text/html": [
       "<div>\n",
       "<style scoped>\n",
       "    .dataframe tbody tr th:only-of-type {\n",
       "        vertical-align: middle;\n",
       "    }\n",
       "\n",
       "    .dataframe tbody tr th {\n",
       "        vertical-align: top;\n",
       "    }\n",
       "\n",
       "    .dataframe thead th {\n",
       "        text-align: right;\n",
       "    }\n",
       "</style>\n",
       "<table border=\"1\" class=\"dataframe\">\n",
       "  <thead>\n",
       "    <tr style=\"text-align: right;\">\n",
       "      <th></th>\n",
       "      <th>word_freq_make:</th>\n",
       "      <th>word_freq_address:</th>\n",
       "      <th>word_freq_all:</th>\n",
       "      <th>word_freq_3d:</th>\n",
       "      <th>word_freq_our:</th>\n",
       "      <th>word_freq_over:</th>\n",
       "      <th>word_freq_remove:</th>\n",
       "      <th>word_freq_internet:</th>\n",
       "      <th>word_freq_order:</th>\n",
       "      <th>word_freq_mail:</th>\n",
       "      <th>...</th>\n",
       "      <th>char_freq_;:</th>\n",
       "      <th>char_freq_(:</th>\n",
       "      <th>char_freq_[:</th>\n",
       "      <th>char_freq_!:</th>\n",
       "      <th>char_freq_$:</th>\n",
       "      <th>char_freq_#:</th>\n",
       "      <th>capital_run_length_average:</th>\n",
       "      <th>capital_run_length_longest:</th>\n",
       "      <th>capital_run_length_total:</th>\n",
       "      <th>spam</th>\n",
       "    </tr>\n",
       "  </thead>\n",
       "  <tbody>\n",
       "    <tr>\n",
       "      <th>0</th>\n",
       "      <td>0.00</td>\n",
       "      <td>0.64</td>\n",
       "      <td>0.64</td>\n",
       "      <td>0.0</td>\n",
       "      <td>0.32</td>\n",
       "      <td>0.00</td>\n",
       "      <td>0.00</td>\n",
       "      <td>0.00</td>\n",
       "      <td>0.00</td>\n",
       "      <td>0.00</td>\n",
       "      <td>...</td>\n",
       "      <td>0.00</td>\n",
       "      <td>0.000</td>\n",
       "      <td>0.0</td>\n",
       "      <td>0.778</td>\n",
       "      <td>0.000</td>\n",
       "      <td>0.000</td>\n",
       "      <td>3.756</td>\n",
       "      <td>61</td>\n",
       "      <td>278</td>\n",
       "      <td>1</td>\n",
       "    </tr>\n",
       "    <tr>\n",
       "      <th>1</th>\n",
       "      <td>0.21</td>\n",
       "      <td>0.28</td>\n",
       "      <td>0.50</td>\n",
       "      <td>0.0</td>\n",
       "      <td>0.14</td>\n",
       "      <td>0.28</td>\n",
       "      <td>0.21</td>\n",
       "      <td>0.07</td>\n",
       "      <td>0.00</td>\n",
       "      <td>0.94</td>\n",
       "      <td>...</td>\n",
       "      <td>0.00</td>\n",
       "      <td>0.132</td>\n",
       "      <td>0.0</td>\n",
       "      <td>0.372</td>\n",
       "      <td>0.180</td>\n",
       "      <td>0.048</td>\n",
       "      <td>5.114</td>\n",
       "      <td>101</td>\n",
       "      <td>1028</td>\n",
       "      <td>1</td>\n",
       "    </tr>\n",
       "    <tr>\n",
       "      <th>2</th>\n",
       "      <td>0.06</td>\n",
       "      <td>0.00</td>\n",
       "      <td>0.71</td>\n",
       "      <td>0.0</td>\n",
       "      <td>1.23</td>\n",
       "      <td>0.19</td>\n",
       "      <td>0.19</td>\n",
       "      <td>0.12</td>\n",
       "      <td>0.64</td>\n",
       "      <td>0.25</td>\n",
       "      <td>...</td>\n",
       "      <td>0.01</td>\n",
       "      <td>0.143</td>\n",
       "      <td>0.0</td>\n",
       "      <td>0.276</td>\n",
       "      <td>0.184</td>\n",
       "      <td>0.010</td>\n",
       "      <td>9.821</td>\n",
       "      <td>485</td>\n",
       "      <td>2259</td>\n",
       "      <td>1</td>\n",
       "    </tr>\n",
       "    <tr>\n",
       "      <th>3</th>\n",
       "      <td>0.00</td>\n",
       "      <td>0.00</td>\n",
       "      <td>0.00</td>\n",
       "      <td>0.0</td>\n",
       "      <td>0.63</td>\n",
       "      <td>0.00</td>\n",
       "      <td>0.31</td>\n",
       "      <td>0.63</td>\n",
       "      <td>0.31</td>\n",
       "      <td>0.63</td>\n",
       "      <td>...</td>\n",
       "      <td>0.00</td>\n",
       "      <td>0.137</td>\n",
       "      <td>0.0</td>\n",
       "      <td>0.137</td>\n",
       "      <td>0.000</td>\n",
       "      <td>0.000</td>\n",
       "      <td>3.537</td>\n",
       "      <td>40</td>\n",
       "      <td>191</td>\n",
       "      <td>1</td>\n",
       "    </tr>\n",
       "    <tr>\n",
       "      <th>4</th>\n",
       "      <td>0.00</td>\n",
       "      <td>0.00</td>\n",
       "      <td>0.00</td>\n",
       "      <td>0.0</td>\n",
       "      <td>0.63</td>\n",
       "      <td>0.00</td>\n",
       "      <td>0.31</td>\n",
       "      <td>0.63</td>\n",
       "      <td>0.31</td>\n",
       "      <td>0.63</td>\n",
       "      <td>...</td>\n",
       "      <td>0.00</td>\n",
       "      <td>0.135</td>\n",
       "      <td>0.0</td>\n",
       "      <td>0.135</td>\n",
       "      <td>0.000</td>\n",
       "      <td>0.000</td>\n",
       "      <td>3.537</td>\n",
       "      <td>40</td>\n",
       "      <td>191</td>\n",
       "      <td>1</td>\n",
       "    </tr>\n",
       "    <tr>\n",
       "      <th>5</th>\n",
       "      <td>0.00</td>\n",
       "      <td>0.00</td>\n",
       "      <td>0.00</td>\n",
       "      <td>0.0</td>\n",
       "      <td>1.85</td>\n",
       "      <td>0.00</td>\n",
       "      <td>0.00</td>\n",
       "      <td>1.85</td>\n",
       "      <td>0.00</td>\n",
       "      <td>0.00</td>\n",
       "      <td>...</td>\n",
       "      <td>0.00</td>\n",
       "      <td>0.223</td>\n",
       "      <td>0.0</td>\n",
       "      <td>0.000</td>\n",
       "      <td>0.000</td>\n",
       "      <td>0.000</td>\n",
       "      <td>3.000</td>\n",
       "      <td>15</td>\n",
       "      <td>54</td>\n",
       "      <td>1</td>\n",
       "    </tr>\n",
       "  </tbody>\n",
       "</table>\n",
       "<p>6 rows × 58 columns</p>\n",
       "</div>"
      ],
      "text/plain": [
       "   word_freq_make:  word_freq_address:  word_freq_all:  word_freq_3d:  \\\n",
       "0             0.00                0.64            0.64            0.0   \n",
       "1             0.21                0.28            0.50            0.0   \n",
       "2             0.06                0.00            0.71            0.0   \n",
       "3             0.00                0.00            0.00            0.0   \n",
       "4             0.00                0.00            0.00            0.0   \n",
       "5             0.00                0.00            0.00            0.0   \n",
       "\n",
       "   word_freq_our:  word_freq_over:  word_freq_remove:  word_freq_internet:  \\\n",
       "0            0.32             0.00               0.00                 0.00   \n",
       "1            0.14             0.28               0.21                 0.07   \n",
       "2            1.23             0.19               0.19                 0.12   \n",
       "3            0.63             0.00               0.31                 0.63   \n",
       "4            0.63             0.00               0.31                 0.63   \n",
       "5            1.85             0.00               0.00                 1.85   \n",
       "\n",
       "   word_freq_order:  word_freq_mail:  ...  char_freq_;:  char_freq_(:  \\\n",
       "0              0.00             0.00  ...          0.00         0.000   \n",
       "1              0.00             0.94  ...          0.00         0.132   \n",
       "2              0.64             0.25  ...          0.01         0.143   \n",
       "3              0.31             0.63  ...          0.00         0.137   \n",
       "4              0.31             0.63  ...          0.00         0.135   \n",
       "5              0.00             0.00  ...          0.00         0.223   \n",
       "\n",
       "   char_freq_[:  char_freq_!:  char_freq_$:  char_freq_#:  \\\n",
       "0           0.0         0.778         0.000         0.000   \n",
       "1           0.0         0.372         0.180         0.048   \n",
       "2           0.0         0.276         0.184         0.010   \n",
       "3           0.0         0.137         0.000         0.000   \n",
       "4           0.0         0.135         0.000         0.000   \n",
       "5           0.0         0.000         0.000         0.000   \n",
       "\n",
       "   capital_run_length_average:  capital_run_length_longest:  \\\n",
       "0                        3.756                           61   \n",
       "1                        5.114                          101   \n",
       "2                        9.821                          485   \n",
       "3                        3.537                           40   \n",
       "4                        3.537                           40   \n",
       "5                        3.000                           15   \n",
       "\n",
       "   capital_run_length_total:  spam  \n",
       "0                        278     1  \n",
       "1                       1028     1  \n",
       "2                       2259     1  \n",
       "3                        191     1  \n",
       "4                        191     1  \n",
       "5                         54     1  \n",
       "\n",
       "[6 rows x 58 columns]"
      ]
     },
     "execution_count": 2,
     "metadata": {},
     "output_type": "execute_result"
    }
   ],
   "source": [
    "df = pd.read_csv(r\"C:\\Users\\14249\\OneDrive\\Columbia\\$ML\\midterm\\spam_dataset.csv\")\n",
    "df.head(6)"
   ]
  },
  {
   "cell_type": "code",
   "execution_count": 3,
   "metadata": {},
   "outputs": [
    {
     "name": "stdout",
     "output_type": "stream",
     "text": [
      "word_freq_make:\n",
      "word_freq_address:\n",
      "word_freq_all:\n",
      "word_freq_3d:\n",
      "word_freq_our:\n",
      "word_freq_over:\n",
      "word_freq_remove:\n",
      "word_freq_internet:\n",
      "word_freq_order:\n",
      "word_freq_mail:\n",
      "word_freq_receive:\n",
      "word_freq_will:\n",
      "word_freq_people:\n",
      "word_freq_report:\n",
      "word_freq_addresses:\n",
      "word_freq_free:\n",
      "word_freq_business:\n",
      "word_freq_email:\n",
      "word_freq_you:\n",
      "word_freq_credit:\n",
      "word_freq_your:\n",
      "word_freq_font:\n",
      "word_freq_000:\n",
      "word_freq_money:\n",
      "word_freq_hp:\n",
      "word_freq_hpl:\n",
      "word_freq_george:\n",
      "word_freq_650:\n",
      "word_freq_lab:\n",
      "word_freq_labs:\n",
      "word_freq_telnet:\n",
      "word_freq_857:\n",
      "word_freq_data:\n",
      "word_freq_415:\n",
      "word_freq_85:\n",
      "word_freq_technology:\n",
      "word_freq_1999:\n",
      "word_freq_parts:\n",
      "word_freq_pm:\n",
      "word_freq_direct:\n",
      "word_freq_cs:\n",
      "word_freq_meeting:\n",
      "word_freq_original:\n",
      "word_freq_project:\n",
      "word_freq_re:\n",
      "word_freq_edu:\n",
      "word_freq_table:\n",
      "word_freq_conference:\n",
      "char_freq_;:\n",
      "char_freq_(:\n",
      "char_freq_[:\n",
      "char_freq_!:\n",
      "char_freq_$:\n",
      "char_freq_#:\n",
      "capital_run_length_average:\n",
      "capital_run_length_longest:\n",
      "capital_run_length_total:\n",
      "spam\n",
      "58\n"
     ]
    }
   ],
   "source": [
    "from matplotlib import pyplot as plt \n",
    "\n",
    "count = 0\n",
    "for i in df.columns:\n",
    "    count += 1\n",
    "    print(i)\n",
    "    \n",
    "print(count)"
   ]
  },
  {
   "cell_type": "markdown",
   "metadata": {},
   "source": [
    "3.Visualize the univariate distribution of each of the variables in the previous question.  \n"
   ]
  },
  {
   "cell_type": "code",
   "execution_count": 4,
   "metadata": {
    "scrolled": true
   },
   "outputs": [
    {
     "data": {
      "text/plain": [
       "<AxesSubplot:>"
      ]
     },
     "execution_count": 4,
     "metadata": {},
     "output_type": "execute_result"
    },
    {
     "data": {
      "image/png": "[encoded data removed]",
      "text/plain": [
       "<Figure size 432x288 with 1 Axes>"
      ]
     },
     "metadata": {
      "needs_background": "light"
     },
     "output_type": "display_data"
    }
   ],
   "source": [
    "df ['word_freq_free:'].hist()"
   ]
  },
  {
   "cell_type": "code",
   "execution_count": 5,
   "metadata": {},
   "outputs": [
    {
     "data": {
      "text/plain": [
       "<AxesSubplot:>"
      ]
     },
     "execution_count": 5,
     "metadata": {},
     "output_type": "execute_result"
    },
    {
     "data": {
      "image/png": "[encoded data removed]",
      "text/plain": [
       "<Figure size 432x288 with 1 Axes>"
      ]
     },
     "metadata": {
      "needs_background": "light"
     },
     "output_type": "display_data"
    }
   ],
   "source": [
    "df ['char_freq_!:'].hist()"
   ]
  },
  {
   "cell_type": "code",
   "execution_count": 6,
   "metadata": {},
   "outputs": [
    {
     "data": {
      "text/plain": [
       "<AxesSubplot:>"
      ]
     },
     "execution_count": 6,
     "metadata": {},
     "output_type": "execute_result"
    },
    {
     "data": {
      "image/png": "[encoded data removed]",
      "text/plain": [
       "<Figure size 432x288 with 1 Axes>"
      ]
     },
     "metadata": {
      "needs_background": "light"
     },
     "output_type": "display_data"
    }
   ],
   "source": [
    "df ['char_freq_$:'].hist()"
   ]
  },
  {
   "cell_type": "code",
   "execution_count": 7,
   "metadata": {},
   "outputs": [
    {
     "data": {
      "text/plain": [
       "<AxesSubplot:>"
      ]
     },
     "execution_count": 7,
     "metadata": {},
     "output_type": "execute_result"
    },
    {
     "data": {
      "image/png": "[encoded data removed]",
      "text/plain": [
       "<Figure size 432x288 with 1 Axes>"
      ]
     },
     "metadata": {
      "needs_background": "light"
     },
     "output_type": "display_data"
    }
   ],
   "source": [
    "df ['spam'].hist()"
   ]
  },
  {
   "cell_type": "markdown",
   "metadata": {},
   "source": [
    "4.Name each of the supervised learning models that we have learned thus far that are used to predict dependent variables like \"spam\".\n",
    "\n",
    "ANSWER: K Nearest Neighbor Classification; \n",
    "logistic regression; \n",
    "penalized logistic regression;\n",
    "support vector machine;\n",
    "decision tree classifier;\n",
    "random forest classifier."
   ]
  },
  {
   "cell_type": "markdown",
   "metadata": {},
   "source": [
    "5.Describe the importance of training and test data.  Why do we separate data into these subsets?\n",
    "\n",
    "ANSWER: We use training test split to prevent overfitting. If we keep training our model on all available data, we probably would get a \"perfect\" model that can work very well on our data. This is partly because we are tries to explain the noise of the data, which is the part cannot be explained. If we do this, we are adding unneccesary parameters and complexity into our model. As a result, the prediction of the model is compromised by overfitting. A general rule for machine learning is try to keep model as simple as possible.\n",
    "\n",
    "Using training test split, training data is for model building and cross valiadations. We use cross validation to choose our best model and then use test data, which should be completely new to the model, to test the model's ability for predictive performance."
   ]
  },
  {
   "cell_type": "markdown",
   "metadata": {},
   "source": [
    "6.What is k-fold cross validation and what do we use it for?\n",
    "\n",
    "ANSWER: The k-fold cross validation is the measure we apply on our training data. In a standard k-fold cross validation setting, the training data is partitioned into k folds. The model is built by using k-1 sets.The the model built is tested on the last set. We repeat this operation k times until every single set is used as the test set. The final score of the cross validation is the average of all tests. We use it to prevent overfitting (explained in the previous question) and seleciton bias (lack of randomlization in data selection). We use it as our model selection criteria."
   ]
  },
  {
   "cell_type": "markdown",
   "metadata": {},
   "source": [
    "7.How is k-fold cross validation different from stratified k-fold cross validation?\n",
    "\n",
    "ANSWER: When we have different classes in our data. We might want to use stratified k-fold to ensure each set (both train and test set) has relatively the same percentage of each class as the population. "
   ]
  },
  {
   "cell_type": "markdown",
   "metadata": {},
   "source": [
    "8.Choose one model from question four.  Split the data into training and test subsets.  Build a model with the three variables in the dataset that you think will be good predictors of \"spam\".  Describe why you chose any particular parameters for your model (e.g.- if you used KNN how did you decide to choose a specific value for k).  Run the model and evaluate prediction error in two ways: A) On test data directly and B) using k-fold cross-validation. \n",
    "\n",
    "ANSWER: The first model I use is KNN classification.\n",
    "The choice of K, I used GridSearchCV select the k of the best model based on cross validation score. The input of k is a list of odd numbers to avoid a tie."
   ]
  },
  {
   "cell_type": "code",
   "execution_count": 8,
   "metadata": {},
   "outputs": [
    {
     "name": "stdout",
     "output_type": "stream",
     "text": [
      "   word_freq_free:  char_freq_!:  char_freq_$:\n",
      "0             0.32         0.778         0.000\n",
      "1             0.14         0.372         0.180\n",
      "2             0.06         0.276         0.184\n",
      "3             0.31         0.137         0.000\n",
      "4             0.31         0.135         0.000\n",
      "[[ 0.08617144  0.62400658 -0.30835494]\n",
      " [-0.1318249   0.12620315  0.42378306]\n",
      " [-0.22871216  0.00849594  0.44005279]\n",
      " ...\n",
      " [-0.3013776  -0.32991229 -0.30835494]\n",
      " [-0.3013776  -0.32991229 -0.30835494]\n",
      " [-0.3013776  -0.17664769 -0.30835494]]\n"
     ]
    }
   ],
   "source": [
    "y = df['spam']  \n",
    "X_raw = pd.DataFrame(df, columns = ['word_freq_free:', 'char_freq_!:', 'char_freq_$:'])\n",
    "from sklearn import preprocessing \n",
    "X = preprocessing.scale(X_raw)\n",
    "\n",
    "print(X_raw.head())\n",
    "print(X)"
   ]
  },
  {
   "cell_type": "code",
   "execution_count": 9,
   "metadata": {},
   "outputs": [
    {
     "data": {
      "text/plain": [
       "0    1\n",
       "1    1\n",
       "2    1\n",
       "3    1\n",
       "4    1\n",
       "Name: spam, dtype: int64"
      ]
     },
     "execution_count": 9,
     "metadata": {},
     "output_type": "execute_result"
    }
   ],
   "source": [
    "y.head()"
   ]
  },
  {
   "cell_type": "code",
   "execution_count": 10,
   "metadata": {},
   "outputs": [],
   "source": [
    "# Split data in training and test set\n",
    "from sklearn.model_selection import train_test_split\n",
    "X_train, X_test, y_train, y_test = train_test_split(X, y, random_state = 16)\n",
    "\n",
    "from sklearn.model_selection import cross_val_score\n",
    "from sklearn.model_selection import KFold\n",
    "kfold = KFold(n_splits=5)"
   ]
  },
  {
   "cell_type": "code",
   "execution_count": 11,
   "metadata": {},
   "outputs": [
    {
     "name": "stdout",
     "output_type": "stream",
     "text": [
      "best mean cross-validation score: 0.862\n",
      "best parameters: {'n_neighbors': 11}\n",
      "test-set score: 0.870\n"
     ]
    }
   ],
   "source": [
    "# KNN Classification \n",
    "from sklearn.model_selection import GridSearchCV\n",
    "from sklearn.neighbors import KNeighborsClassifier\n",
    "\n",
    "param_grid_KNN = {'n_neighbors': np.arange(1, 57, 2)}\n",
    "\n",
    "grid_KNN = GridSearchCV(KNeighborsClassifier(), param_grid=param_grid_KNN) \n",
    "\n",
    "grid_KNN.fit(X_train, y_train) \n",
    "\n",
    "#extract best score and parameter by calling objects \"best_score_\" and \"best_params_\"\n",
    "print(\"best mean cross-validation score: {:.3f}\".format(grid_KNN.best_score_))\n",
    "print(\"best parameters: {}\".format(grid_KNN.best_params_))\n",
    "print(\"test-set score: {:.3f}\".format(grid_KNN.score(X_test, y_test))) "
   ]
  },
  {
   "cell_type": "markdown",
   "metadata": {},
   "source": [
    "9.Choose a second model from question four.  Using the same three variables in the dataset that you think will be good predictors of \"spam\".  Describe why you chose any particular parameters for your model (e.g.- if you used KNN how did you decide to choose a specific value for k).  Run the model and evaluate prediction error in two ways: A) On test data directly and B) using k-fold cross-validation.  Did this model predict test data better than your previous model?\n",
    "\n",
    "ANSWER: The second model I choose is penalized logistic regression. The input of GridSearch CV is a list all integers from 1 to 100. The best model is the one with c equal to 4.0. \n",
    "Its performance is not as good as the previous model."
   ]
  },
  {
   "cell_type": "code",
   "execution_count": 12,
   "metadata": {},
   "outputs": [
    {
     "name": "stdout",
     "output_type": "stream",
     "text": [
      "best mean cross-validation score: 0.830\n",
      "best parameters: {'C': 4.0}\n",
      "test-set score: 0.840\n"
     ]
    }
   ],
   "source": [
    "#Logistic Regression \n",
    "from sklearn.linear_model import LogisticRegression\n",
    "param_grid_lg = {'C': np.linspace(1, 100, 100)} \n",
    "grid_lg = GridSearchCV(LogisticRegression(max_iter=100000), param_grid=param_grid_lg)\n",
    "grid_lg.fit(X_train, y_train) \n",
    "\n",
    "print(\"best mean cross-validation score: {:.3f}\".format(grid_lg.best_score_))\n",
    "print(\"best parameters: {}\".format(grid_lg.best_params_))\n",
    "print(\"test-set score: {:.3f}\".format(grid_lg.score(X_test, y_test))) "
   ]
  },
  {
   "cell_type": "markdown",
   "metadata": {},
   "source": [
    "10.Choose a third model from question four.  Using the same three variables in the dataset that you think will be good predictors of \"spam\".  Describe why you chose any particular parameters for your model (e.g.- if you used KNN how did you decide to choose a specific value for k). Run the model and evaluate prediction error in two ways: A) On test data directly and B) using k-fold cross-validation.  Did this model predict test data better than your previous models?\n",
    "\n",
    "ANSWER: The third model I use is Support vector machine. C is the squared l2 penality. The smaller the c is, the larger the penalty applies. Smaller C can soften the margin, which means to allow some points go inside the margin for better fitting. Gamma is to define the influence range of a single traing example. For smaller gammas two points can be considered similar even if are far from each other and for larger gammas we require a more strict standard for similarity. The model predicts test data worse than KNN classification model, but better than logistic regression model.\n"
   ]
  },
  {
   "cell_type": "code",
   "execution_count": 13,
   "metadata": {},
   "outputs": [
    {
     "name": "stdout",
     "output_type": "stream",
     "text": [
      "best mean cross-validation score: 0.848\n",
      "best parameters: {'C': 50, 'gamma': 0.001}\n",
      "test-set score: 0.854\n"
     ]
    }
   ],
   "source": [
    "from sklearn.svm import SVC\n",
    "param_grid_svm = {'C': [1, 5, 10, 50],\n",
    "              'gamma': [0.0001, 0.0005, 0.001, 0.005]}\n",
    "\n",
    "grid_svm = GridSearchCV(SVC(kernel='rbf'), param_grid=param_grid_svm)\n",
    "grid_svm.fit(X_train, y_train)\n",
    "\n",
    "print(\"best mean cross-validation score: {:.3f}\".format(grid_svm.best_score_))\n",
    "print(\"best parameters: {}\".format(grid_svm.best_params_))\n",
    "print(\"test-set score: {:.3f}\".format(grid_svm.score(X_test, y_test))) "
   ]
  },
  {
   "cell_type": "markdown",
   "metadata": {},
   "source": [
    "11.Choose a fourth model from question four.  Using the same three variables in the dataset that you think will be good predictors of \"spam\".  Describe why you chose any particular parameters for your model (e.g.- if you used KNN how did you decide to choose a specific value for k). Run the model and evaluate prediction error in two ways: A) On test data directly and B) using k-fold cross-validation.  Did this model predict test data better than your previous models?\n",
    "\n",
    "ANSWER: The fourth model I choose is decision tree classification. I tune the parameter max_depth from 1 to 20, which controls how many times the internal nodes split and can influence predictive performance. I also tune the criterion parameter, which controls the classification criteria, because the quality of the split can also influence the model performance.\n",
    "\n",
    "Now the decision tree model is the best one out of the fourth models in terms of the test-set score.\n"
   ]
  },
  {
   "cell_type": "code",
   "execution_count": 14,
   "metadata": {},
   "outputs": [
    {
     "name": "stdout",
     "output_type": "stream",
     "text": [
      "best mean cross-validation score: 0.860\n",
      "best parameters: {'criterion': 'entropy', 'max_depth': 5.0}\n",
      "test-set score: 0.873\n"
     ]
    }
   ],
   "source": [
    "from sklearn.tree import DecisionTreeClassifier\n",
    "\n",
    "param_grid_dt = {'criterion': ['gini', 'entropy'],\n",
    "    'max_depth': np.linspace(1, 20, 20)}\n",
    "\n",
    "grid_dt = GridSearchCV(DecisionTreeClassifier(random_state=0), param_grid=param_grid_dt)\n",
    "grid_dt.fit(X_train, y_train)\n",
    "\n",
    "print(\"best mean cross-validation score: {:.3f}\".format(grid_dt.best_score_))\n",
    "print(\"best parameters: {}\".format(grid_dt.best_params_))\n",
    "print(\"test-set score: {:.3f}\".format(grid_dt.score(X_test, y_test))) "
   ]
  },
  {
   "cell_type": "markdown",
   "metadata": {},
   "source": [
    "12.Now rerun your best model from questions 8 through 11, but this time add three new variables to the model that you think will increase prediction accuracy.   Did this model predict test data better than your previous models?  \n",
    "\n",
    "\n"
   ]
  },
  {
   "cell_type": "code",
   "execution_count": 15,
   "metadata": {},
   "outputs": [
    {
     "name": "stdout",
     "output_type": "stream",
     "text": [
      "   word_freq_free:  char_freq_!:  char_freq_$:  word_freq_address:  \\\n",
      "0             0.32         0.778         0.000                0.64   \n",
      "1             0.14         0.372         0.180                0.28   \n",
      "2             0.06         0.276         0.184                0.00   \n",
      "3             0.31         0.137         0.000                0.00   \n",
      "4             0.31         0.135         0.000                0.00   \n",
      "\n",
      "   word_freq_order:  word_freq_original:  \n",
      "0              0.00                 0.00  \n",
      "1              0.00                 0.00  \n",
      "2              0.64                 0.12  \n",
      "3              0.31                 0.00  \n",
      "4              0.31                 0.00  \n",
      "[[ 0.08617144  0.62400658 -0.30835494  0.3308849  -0.32330236 -0.20599311]\n",
      " [-0.1318249   0.12620315  0.42378306  0.05190919 -0.32330236 -0.20599311]\n",
      " [-0.22871216  0.00849594  0.44005279 -0.16507191  1.9740168   0.33022998]\n",
      " ...\n",
      " [-0.3013776  -0.32991229 -0.30835494 -0.16507191 -0.32330236 -0.20599311]\n",
      " [-0.3013776  -0.32991229 -0.30835494 -0.16507191 -0.32330236 -0.20599311]\n",
      " [-0.3013776  -0.17664769 -0.30835494 -0.16507191 -0.32330236 -0.20599311]]\n"
     ]
    }
   ],
   "source": [
    "X_raw_2 = pd.DataFrame(df, columns = ['word_freq_free:', 'char_freq_!:', 'char_freq_$:', 'word_freq_address:', 'word_freq_order:', 'word_freq_original:' ])\n",
    "from sklearn import preprocessing \n",
    "X_new = preprocessing.scale(X_raw_2)\n",
    "\n",
    "print(X_raw_2.head())\n",
    "print(X_new)\n",
    "X_train_2, X_test_2, y_train_2, y_test_2 = train_test_split(X_new, y, random_state = 16)"
   ]
  },
  {
   "cell_type": "code",
   "execution_count": 16,
   "metadata": {},
   "outputs": [
    {
     "name": "stdout",
     "output_type": "stream",
     "text": [
      "best mean cross-validation score: 0.862\n",
      "best parameters: {'criterion': 'entropy', 'max_depth': 7.0}\n",
      "test-set score: 0.869\n"
     ]
    }
   ],
   "source": [
    "grid_dt_2 = GridSearchCV(DecisionTreeClassifier(random_state=0), param_grid=param_grid_dt)\n",
    "grid_dt_2.fit(X_train_2, y_train_2)\n",
    "\n",
    "print(\"best mean cross-validation score: {:.3f}\".format(grid_dt_2.best_score_))\n",
    "print(\"best parameters: {}\".format(grid_dt_2.best_params_))\n",
    "print(\"test-set score: {:.3f}\".format(grid_dt_2.score(X_test_2, y_test_2))) "
   ]
  },
  {
   "cell_type": "markdown",
   "metadata": {},
   "source": [
    "ANSWER: The performance of this model is relatively the same as previous best decision tree mode with a little bit lower test-set score but a little bit higher CV score."
   ]
  },
  {
   "cell_type": "markdown",
   "metadata": {},
   "source": [
    "13.Rerun all your other models with this final set of six variables, evaluate prediction error, and choose a final model.  Why did you select this model among all of the models that you ran?  \n",
    "\n",
    "ANSWER: The final model I choose is the KNN classifier, because it has the highest score on cross validation and a good preditvie performance.\n"
   ]
  },
  {
   "cell_type": "code",
   "execution_count": 17,
   "metadata": {},
   "outputs": [
    {
     "name": "stdout",
     "output_type": "stream",
     "text": [
      "best mean cross-validation score: 0.871\n",
      "best parameters: {'n_neighbors': 11}\n",
      "test-set score: 0.865\n"
     ]
    }
   ],
   "source": [
    "grid_KNN_2 = GridSearchCV(KNeighborsClassifier(), param_grid=param_grid_KNN) \n",
    "\n",
    "grid_KNN_2.fit(X_train_2, y_train_2) \n",
    "\n",
    "#extract best score and parameter by calling objects \"best_score_\" and \"best_params_\"\n",
    "print(\"best mean cross-validation score: {:.3f}\".format(grid_KNN_2.best_score_))\n",
    "print(\"best parameters: {}\".format(grid_KNN_2.best_params_))\n",
    "print(\"test-set score: {:.3f}\".format(grid_KNN_2.score(X_test_2, y_test_2))) "
   ]
  },
  {
   "cell_type": "code",
   "execution_count": 18,
   "metadata": {},
   "outputs": [
    {
     "name": "stdout",
     "output_type": "stream",
     "text": [
      "best mean cross-validation score: 0.834\n",
      "best parameters: {'C': 2.0}\n",
      "test-set score: 0.840\n"
     ]
    }
   ],
   "source": [
    "grid_lg_2 = GridSearchCV(LogisticRegression(max_iter=100000), param_grid=param_grid_lg)\n",
    "grid_lg_2.fit(X_train_2, y_train_2) \n",
    "\n",
    "print(\"best mean cross-validation score: {:.3f}\".format(grid_lg_2.best_score_))\n",
    "print(\"best parameters: {}\".format(grid_lg_2.best_params_))\n",
    "print(\"test-set score: {:.3f}\".format(grid_lg_2.score(X_test_2, y_test_2))) "
   ]
  },
  {
   "cell_type": "code",
   "execution_count": 19,
   "metadata": {},
   "outputs": [
    {
     "name": "stdout",
     "output_type": "stream",
     "text": [
      "best mean cross-validation score: 0.858\n",
      "best parameters: {'C': 50, 'gamma': 0.001}\n",
      "test-set score: 0.862\n"
     ]
    }
   ],
   "source": [
    "grid_svm_2 = GridSearchCV(SVC(kernel='rbf'), param_grid=param_grid_svm)\n",
    "grid_svm_2.fit(X_train_2, y_train_2)\n",
    "\n",
    "print(\"best mean cross-validation score: {:.3f}\".format(grid_svm_2.best_score_))\n",
    "print(\"best parameters: {}\".format(grid_svm_2.best_params_))\n",
    "print(\"test-set score: {:.3f}\".format(grid_svm_2.score(X_test_2, y_test_2))) "
   ]
  },
  {
   "cell_type": "markdown",
   "metadata": {},
   "source": [
    "14.What variable that currently is not in your model, if included, would be likely to increase your final model's predictive power?  For this answer try to speculate about a variable outside the variables available in the data that would improve you model.\n",
    "\n",
    "ANSWER: The inclusion of the appearance of \"est\",\"more\",\"most\" or \"er\" date as a variable may increse my final model's predictive power. I think spam may make comparison with the products/service of their competitors, which will lead to the appearance of \"er\" and \"more\". And they can also make exaggerated statements that invloves the use of \"est\" and \"most\""
   ]
  },
  {
   "cell_type": "markdown",
   "metadata": {},
   "source": [
    "15.Lastly, you have listed each of the models that we have learned to use to predict dependent variables like spam.  List each model we have focused on in class thus far that you could use to evaluate data with a continuous dependent variable. \n",
    "\n",
    "ANSWER: Linear regression model;\n",
    "K nearest neighbor regression model;\n",
    "Ridge regression model;\n",
    "Lasso regression model;\n",
    "Decisison Tree Regressor. "
   ]
  },
  {
   "cell_type": "code",
   "execution_count": null,
   "metadata": {},
   "outputs": [],
   "source": []
  }
 ],
 "metadata": {
  "kernelspec": {
   "display_name": "Python 3",
   "language": "python",
   "name": "python3"
  },
  "language_info": {
   "codemirror_mode": {
    "name": "ipython",
    "version": 3
   },
   "file_extension": ".py",
   "mimetype": "text/x-python",
   "name": "python",
   "nbconvert_exporter": "python",
   "pygments_lexer": "ipython3",
   "version": "3.8.5"
  }
 },
 "nbformat": 4,
 "nbformat_minor": 4
}
